{
 "cells": [
  {
   "cell_type": "code",
   "execution_count": 1,
   "metadata": {},
   "outputs": [],
   "source": [
    "import math\n",
    "import statistics\n",
    "import random\n",
    "from scipy import stats as sps\n",
    "import pandas as pd\n",
    "import numpy as np\n",
    "import seaborn as sns\n",
    "import matplotlib.pyplot as plt\n",
    "from statsmodels.distributions.empirical_distribution import ECDF\n",
    "from statsmodels.stats.descriptivestats import sign_test\n",
    "%matplotlib inline"
   ]
  },
  {
   "cell_type": "code",
   "execution_count": 2,
   "metadata": {},
   "outputs": [],
   "source": [
    "df = pd.read_excel('data_matstat_K5.xls', sheet_name = 'D - homedat')"
   ]
  },
  {
   "cell_type": "code",
   "execution_count": 3,
   "metadata": {},
   "outputs": [
    {
     "data": {
      "text/html": [
       "<div>\n",
       "<style scoped>\n",
       "    .dataframe tbody tr th:only-of-type {\n",
       "        vertical-align: middle;\n",
       "    }\n",
       "\n",
       "    .dataframe tbody tr th {\n",
       "        vertical-align: top;\n",
       "    }\n",
       "\n",
       "    .dataframe thead th {\n",
       "        text-align: right;\n",
       "    }\n",
       "</style>\n",
       "<table border=\"1\" class=\"dataframe\">\n",
       "  <thead>\n",
       "    <tr style=\"text-align: right;\">\n",
       "      <th></th>\n",
       "      <th>D1</th>\n",
       "      <th>D2</th>\n",
       "      <th>D3</th>\n",
       "      <th>D4</th>\n",
       "      <th>D5</th>\n",
       "      <th>D6</th>\n",
       "      <th>D7</th>\n",
       "      <th>D8</th>\n",
       "      <th>D9</th>\n",
       "      <th>D10</th>\n",
       "      <th>D11</th>\n",
       "      <th>D12</th>\n",
       "      <th>D13</th>\n",
       "    </tr>\n",
       "  </thead>\n",
       "  <tbody>\n",
       "    <tr>\n",
       "      <td>0</td>\n",
       "      <td>2050</td>\n",
       "      <td>2243</td>\n",
       "      <td>2289</td>\n",
       "      <td>2650</td>\n",
       "      <td>13</td>\n",
       "      <td>7</td>\n",
       "      <td>north</td>\n",
       "      <td>Y</td>\n",
       "      <td>6.421</td>\n",
       "      <td>4.9671</td>\n",
       "      <td>2</td>\n",
       "      <td>Y</td>\n",
       "      <td>1639</td>\n",
       "    </tr>\n",
       "    <tr>\n",
       "      <td>1</td>\n",
       "      <td>2080</td>\n",
       "      <td>2255</td>\n",
       "      <td>2355</td>\n",
       "      <td>2600</td>\n",
       "      <td>8</td>\n",
       "      <td>4</td>\n",
       "      <td>north</td>\n",
       "      <td>Y</td>\n",
       "      <td>7.185</td>\n",
       "      <td>4.9671</td>\n",
       "      <td>2</td>\n",
       "      <td>Y</td>\n",
       "      <td>1088</td>\n",
       "    </tr>\n",
       "    <tr>\n",
       "      <td>2</td>\n",
       "      <td>2150</td>\n",
       "      <td>2307</td>\n",
       "      <td>2443</td>\n",
       "      <td>2664</td>\n",
       "      <td>6</td>\n",
       "      <td>5</td>\n",
       "      <td>north</td>\n",
       "      <td>Y</td>\n",
       "      <td>6.998</td>\n",
       "      <td>6.0622</td>\n",
       "      <td>3</td>\n",
       "      <td>Y</td>\n",
       "      <td>1193</td>\n",
       "    </tr>\n",
       "    <tr>\n",
       "      <td>3</td>\n",
       "      <td>2150</td>\n",
       "      <td>2232</td>\n",
       "      <td>2351</td>\n",
       "      <td>2921</td>\n",
       "      <td>3</td>\n",
       "      <td>6</td>\n",
       "      <td>north</td>\n",
       "      <td>Y</td>\n",
       "      <td>7.147</td>\n",
       "      <td>6.0622</td>\n",
       "      <td>3</td>\n",
       "      <td>Y</td>\n",
       "      <td>1635</td>\n",
       "    </tr>\n",
       "    <tr>\n",
       "      <td>4</td>\n",
       "      <td>1999</td>\n",
       "      <td>2054</td>\n",
       "      <td>2113</td>\n",
       "      <td>2580</td>\n",
       "      <td>4</td>\n",
       "      <td>4</td>\n",
       "      <td>north</td>\n",
       "      <td>Y</td>\n",
       "      <td>6.430</td>\n",
       "      <td>6.0622</td>\n",
       "      <td>3</td>\n",
       "      <td>Y</td>\n",
       "      <td>1732</td>\n",
       "    </tr>\n",
       "  </tbody>\n",
       "</table>\n",
       "</div>"
      ],
      "text/plain": [
       "     D1    D2    D3    D4  D5  D6     D7 D8     D9     D10  D11 D12   D13\n",
       "0  2050  2243  2289  2650  13   7  north  Y  6.421  4.9671    2   Y  1639\n",
       "1  2080  2255  2355  2600   8   4  north  Y  7.185  4.9671    2   Y  1088\n",
       "2  2150  2307  2443  2664   6   5  north  Y  6.998  6.0622    3   Y  1193\n",
       "3  2150  2232  2351  2921   3   6  north  Y  7.147  6.0622    3   Y  1635\n",
       "4  1999  2054  2113  2580   4   4  north  Y  6.430  6.0622    3   Y  1732"
      ]
     },
     "execution_count": 3,
     "metadata": {},
     "output_type": "execute_result"
    }
   ],
   "source": [
    "df.head()"
   ]
  },
  {
   "cell_type": "code",
   "execution_count": 4,
   "metadata": {},
   "outputs": [
    {
     "name": "stdout",
     "output_type": "stream",
     "text": [
      "<class 'pandas.core.frame.DataFrame'>\n",
      "RangeIndex: 117 entries, 0 to 116\n",
      "Data columns (total 13 columns):\n",
      "D1     117 non-null int64\n",
      "D2     117 non-null int64\n",
      "D3     117 non-null int64\n",
      "D4     117 non-null int64\n",
      "D5     117 non-null int64\n",
      "D6     117 non-null int64\n",
      "D7     117 non-null object\n",
      "D8     117 non-null object\n",
      "D9     117 non-null float64\n",
      "D10    117 non-null float64\n",
      "D11    117 non-null int64\n",
      "D12    117 non-null object\n",
      "D13    117 non-null int64\n",
      "dtypes: float64(2), int64(8), object(3)\n",
      "memory usage: 12.0+ KB\n"
     ]
    }
   ],
   "source": [
    "df.info()"
   ]
  },
  {
   "cell_type": "markdown",
   "metadata": {},
   "source": [
    "* D1 — Appraisal price1 ($hundreds)\n",
    "\n",
    "\n",
    "* D2 — Appraisal price2 ($hundreds) \n",
    "\n",
    "\n",
    "* D3 — Appraisal price3 ($hundreds)\n",
    "\n",
    "\n",
    "* D4 — Square feet of living space\n",
    "\n",
    "\n",
    "* D5 — Age of home (years)\n",
    "\n",
    "\n",
    "* D6 — Number out of 11 features (dishwasher, refrigerator, microwave, disposer, washer, intercom, skylight(s), compactor, dryer, handicap fit, cable TV access)\n",
    "\n",
    "\n",
    "* D7 — Location in sector of city\n",
    "\n",
    "\n",
    "* D8 — Corner location\n",
    "\n",
    "\n",
    "* D9 — Nitric oxides concentration\n",
    "\n",
    "\n",
    "* D10 — Weighted distances to five city employment centres\n",
    "\n",
    "\n",
    "* D11 — Index of accessibility to radial highways\n",
    "\n",
    "\n",
    "* D12 — River adjacency\n",
    "\n",
    "\n",
    "* D13 — Annual taxes ($)"
   ]
  },
  {
   "cell_type": "markdown",
   "metadata": {},
   "source": [
    "### Задание 1.1"
   ]
  },
  {
   "cell_type": "code",
   "execution_count": 5,
   "metadata": {},
   "outputs": [
    {
     "data": {
      "text/html": [
       "<div>\n",
       "<style scoped>\n",
       "    .dataframe tbody tr th:only-of-type {\n",
       "        vertical-align: middle;\n",
       "    }\n",
       "\n",
       "    .dataframe tbody tr th {\n",
       "        vertical-align: top;\n",
       "    }\n",
       "\n",
       "    .dataframe thead th {\n",
       "        text-align: right;\n",
       "    }\n",
       "</style>\n",
       "<table border=\"1\" class=\"dataframe\">\n",
       "  <thead>\n",
       "    <tr style=\"text-align: right;\">\n",
       "      <th></th>\n",
       "      <th>D1</th>\n",
       "      <th>D2</th>\n",
       "      <th>D3</th>\n",
       "      <th>D4</th>\n",
       "      <th>D5</th>\n",
       "      <th>D6</th>\n",
       "      <th>D9</th>\n",
       "      <th>D10</th>\n",
       "      <th>D11</th>\n",
       "      <th>D13</th>\n",
       "    </tr>\n",
       "  </thead>\n",
       "  <tbody>\n",
       "    <tr>\n",
       "      <td>count</td>\n",
       "      <td>117.000000</td>\n",
       "      <td>117.000000</td>\n",
       "      <td>117.000000</td>\n",
       "      <td>117.000000</td>\n",
       "      <td>117.000000</td>\n",
       "      <td>117.000000</td>\n",
       "      <td>117.000000</td>\n",
       "      <td>117.000000</td>\n",
       "      <td>117.000000</td>\n",
       "      <td>117.000000</td>\n",
       "    </tr>\n",
       "    <tr>\n",
       "      <td>mean</td>\n",
       "      <td>1062.735043</td>\n",
       "      <td>1166.461538</td>\n",
       "      <td>1260.444444</td>\n",
       "      <td>1653.854701</td>\n",
       "      <td>14.076923</td>\n",
       "      <td>3.529915</td>\n",
       "      <td>6.229863</td>\n",
       "      <td>4.778577</td>\n",
       "      <td>4.205128</td>\n",
       "      <td>789.923077</td>\n",
       "    </tr>\n",
       "    <tr>\n",
       "      <td>std</td>\n",
       "      <td>380.436985</td>\n",
       "      <td>383.265024</td>\n",
       "      <td>388.552274</td>\n",
       "      <td>523.722802</td>\n",
       "      <td>10.451987</td>\n",
       "      <td>1.405486</td>\n",
       "      <td>0.466012</td>\n",
       "      <td>1.622032</td>\n",
       "      <td>1.367974</td>\n",
       "      <td>298.884655</td>\n",
       "    </tr>\n",
       "    <tr>\n",
       "      <td>min</td>\n",
       "      <td>540.000000</td>\n",
       "      <td>594.000000</td>\n",
       "      <td>690.000000</td>\n",
       "      <td>837.000000</td>\n",
       "      <td>1.000000</td>\n",
       "      <td>0.000000</td>\n",
       "      <td>5.399000</td>\n",
       "      <td>2.106900</td>\n",
       "      <td>2.000000</td>\n",
       "      <td>223.000000</td>\n",
       "    </tr>\n",
       "    <tr>\n",
       "      <td>25%</td>\n",
       "      <td>780.000000</td>\n",
       "      <td>904.000000</td>\n",
       "      <td>1002.000000</td>\n",
       "      <td>1280.000000</td>\n",
       "      <td>6.000000</td>\n",
       "      <td>3.000000</td>\n",
       "      <td>5.928000</td>\n",
       "      <td>3.615000</td>\n",
       "      <td>3.000000</td>\n",
       "      <td>600.000000</td>\n",
       "    </tr>\n",
       "    <tr>\n",
       "      <td>50%</td>\n",
       "      <td>960.000000</td>\n",
       "      <td>1067.000000</td>\n",
       "      <td>1139.000000</td>\n",
       "      <td>1549.000000</td>\n",
       "      <td>12.000000</td>\n",
       "      <td>4.000000</td>\n",
       "      <td>6.140000</td>\n",
       "      <td>4.498600</td>\n",
       "      <td>4.000000</td>\n",
       "      <td>733.000000</td>\n",
       "    </tr>\n",
       "    <tr>\n",
       "      <td>75%</td>\n",
       "      <td>1200.000000</td>\n",
       "      <td>1286.000000</td>\n",
       "      <td>1404.000000</td>\n",
       "      <td>1894.000000</td>\n",
       "      <td>17.000000</td>\n",
       "      <td>4.000000</td>\n",
       "      <td>6.421000</td>\n",
       "      <td>5.870000</td>\n",
       "      <td>5.000000</td>\n",
       "      <td>915.000000</td>\n",
       "    </tr>\n",
       "    <tr>\n",
       "      <td>max</td>\n",
       "      <td>2150.000000</td>\n",
       "      <td>2307.000000</td>\n",
       "      <td>2443.000000</td>\n",
       "      <td>3750.000000</td>\n",
       "      <td>53.000000</td>\n",
       "      <td>8.000000</td>\n",
       "      <td>8.069000</td>\n",
       "      <td>9.222900</td>\n",
       "      <td>8.000000</td>\n",
       "      <td>1765.000000</td>\n",
       "    </tr>\n",
       "  </tbody>\n",
       "</table>\n",
       "</div>"
      ],
      "text/plain": [
       "                D1           D2           D3           D4          D5  \\\n",
       "count   117.000000   117.000000   117.000000   117.000000  117.000000   \n",
       "mean   1062.735043  1166.461538  1260.444444  1653.854701   14.076923   \n",
       "std     380.436985   383.265024   388.552274   523.722802   10.451987   \n",
       "min     540.000000   594.000000   690.000000   837.000000    1.000000   \n",
       "25%     780.000000   904.000000  1002.000000  1280.000000    6.000000   \n",
       "50%     960.000000  1067.000000  1139.000000  1549.000000   12.000000   \n",
       "75%    1200.000000  1286.000000  1404.000000  1894.000000   17.000000   \n",
       "max    2150.000000  2307.000000  2443.000000  3750.000000   53.000000   \n",
       "\n",
       "               D6          D9         D10         D11          D13  \n",
       "count  117.000000  117.000000  117.000000  117.000000   117.000000  \n",
       "mean     3.529915    6.229863    4.778577    4.205128   789.923077  \n",
       "std      1.405486    0.466012    1.622032    1.367974   298.884655  \n",
       "min      0.000000    5.399000    2.106900    2.000000   223.000000  \n",
       "25%      3.000000    5.928000    3.615000    3.000000   600.000000  \n",
       "50%      4.000000    6.140000    4.498600    4.000000   733.000000  \n",
       "75%      4.000000    6.421000    5.870000    5.000000   915.000000  \n",
       "max      8.000000    8.069000    9.222900    8.000000  1765.000000  "
      ]
     },
     "execution_count": 5,
     "metadata": {},
     "output_type": "execute_result"
    }
   ],
   "source": [
    "df.describe()"
   ]
  },
  {
   "cell_type": "code",
   "execution_count": 6,
   "metadata": {},
   "outputs": [
    {
     "data": {
      "text/plain": [
       "DescribeResult(nobs=117, minmax=(540, 2150), mean=1062.7350427350427, variance=144732.2998821102, skewness=1.3577070081186777, kurtosis=1.3354933162777254)"
      ]
     },
     "execution_count": 6,
     "metadata": {},
     "output_type": "execute_result"
    }
   ],
   "source": [
    "sps.describe(df['D1'])"
   ]
  },
  {
   "cell_type": "code",
   "execution_count": 7,
   "metadata": {},
   "outputs": [
    {
     "data": {
      "text/plain": [
       "DescribeResult(nobs=117, minmax=(1, 53), mean=14.076923076923077, variance=109.2440318302387, skewness=1.5133848464639645, kurtosis=2.2705010406397275)"
      ]
     },
     "execution_count": 7,
     "metadata": {},
     "output_type": "execute_result"
    }
   ],
   "source": [
    "sps.describe(df['D5'])"
   ]
  },
  {
   "cell_type": "code",
   "execution_count": 8,
   "metadata": {},
   "outputs": [
    {
     "data": {
      "text/plain": [
       "DescribeResult(nobs=117, minmax=(0, 8), mean=3.52991452991453, variance=1.9753905098732687, skewness=0.08827317090579796, kurtosis=0.5266401067036028)"
      ]
     },
     "execution_count": 8,
     "metadata": {},
     "output_type": "execute_result"
    }
   ],
   "source": [
    "sps.describe(df['D6'])"
   ]
  },
  {
   "cell_type": "markdown",
   "metadata": {},
   "source": [
    "### Задание 1.2"
   ]
  },
  {
   "cell_type": "code",
   "execution_count": 9,
   "metadata": {},
   "outputs": [
    {
     "data": {
      "text/plain": [
       "117"
      ]
     },
     "execution_count": 9,
     "metadata": {},
     "output_type": "execute_result"
    }
   ],
   "source": [
    "n = len(df['D1'])\n",
    "n"
   ]
  },
  {
   "cell_type": "markdown",
   "metadata": {},
   "source": [
    "Формула Стерджесса:"
   ]
  },
  {
   "cell_type": "code",
   "execution_count": 10,
   "metadata": {},
   "outputs": [
    {
     "name": "stdout",
     "output_type": "stream",
     "text": [
      "7.870364719583405\n",
      "7\n"
     ]
    }
   ],
   "source": [
    "k = 1 + math.log2(n)\n",
    "\n",
    "print(k)\n",
    "print(int(k)) # число групп"
   ]
  },
  {
   "cell_type": "code",
   "execution_count": 11,
   "metadata": {},
   "outputs": [
    {
     "data": {
      "text/plain": [
       "230"
      ]
     },
     "execution_count": 11,
     "metadata": {},
     "output_type": "execute_result"
    }
   ],
   "source": [
    "# шаг интервала\n",
    "\n",
    "h = int((df['D1'].max() - df['D1'].min()) / int(k))\n",
    "h"
   ]
  },
  {
   "cell_type": "code",
   "execution_count": 12,
   "metadata": {},
   "outputs": [
    {
     "data": {
      "text/plain": [
       "1610"
      ]
     },
     "execution_count": 12,
     "metadata": {},
     "output_type": "execute_result"
    }
   ],
   "source": [
    "df['D1'].max() - df['D1'].min()"
   ]
  },
  {
   "cell_type": "code",
   "execution_count": 13,
   "metadata": {
    "scrolled": true
   },
   "outputs": [
    {
     "data": {
      "text/plain": [
       "0     2050\n",
       "1     2080\n",
       "2     2150\n",
       "3     2150\n",
       "4     1999\n",
       "5     1900\n",
       "6     1800\n",
       "7     1560\n",
       "8     1450\n",
       "9     1449\n",
       "10    1375\n",
       "11    1270\n",
       "12    1250\n",
       "13    1235\n",
       "14    1170\n",
       "Name: D1, dtype: int64"
      ]
     },
     "execution_count": 13,
     "metadata": {},
     "output_type": "execute_result"
    }
   ],
   "source": [
    "df['D1'].head(15)"
   ]
  },
  {
   "cell_type": "code",
   "execution_count": 14,
   "metadata": {},
   "outputs": [
    {
     "data": {
      "text/plain": [
       "2150"
      ]
     },
     "execution_count": 14,
     "metadata": {},
     "output_type": "execute_result"
    }
   ],
   "source": [
    "df['D1'].max()"
   ]
  },
  {
   "cell_type": "code",
   "execution_count": 15,
   "metadata": {},
   "outputs": [
    {
     "data": {
      "text/plain": [
       "540"
      ]
     },
     "execution_count": 15,
     "metadata": {},
     "output_type": "execute_result"
    }
   ],
   "source": [
    "df['D1'].min()"
   ]
  },
  {
   "cell_type": "code",
   "execution_count": 16,
   "metadata": {},
   "outputs": [],
   "source": [
    "# frequencies"
   ]
  },
  {
   "cell_type": "code",
   "execution_count": 17,
   "metadata": {},
   "outputs": [
    {
     "name": "stdout",
     "output_type": "stream",
     "text": [
      "[27. 38. 23. 14.  4.  4.  7.]\n",
      "[ 770. 1000. 1230. 1460. 1690. 1920. 2150.]\n",
      "[ 540.  770. 1000. 1230. 1460. 1690. 1920.]\n"
     ]
    },
    {
     "data": {
      "image/png": "[encoded data removed]",
      "text/plain": [
       "<Figure size 432x288 with 1 Axes>"
      ]
     },
     "metadata": {
      "needs_background": "light"
     },
     "output_type": "display_data"
    }
   ],
   "source": [
    "freq, edges, _ = plt.hist(df['D1'], bins=7)\n",
    "midpoints = 0.5 * (edges[1:] + edges[:-1])\n",
    "print(freq)\n",
    "print(edges[1:]) # верхние границы\n",
    "print(edges[:-1]) # нижние границы\n",
    "plt.plot(midpoints, freq, '--');"
   ]
  },
  {
   "cell_type": "code",
   "execution_count": 18,
   "metadata": {},
   "outputs": [],
   "source": [
    "# relative frequencies"
   ]
  },
  {
   "cell_type": "code",
   "execution_count": 19,
   "metadata": {},
   "outputs": [
    {
     "name": "stdout",
     "output_type": "stream",
     "text": [
      "[0.23076923 0.32478632 0.1965812  0.11965812 0.03418803 0.03418803\n",
      " 0.05982906]\n"
     ]
    },
    {
     "data": {
      "image/png": "[encoded data removed]",
      "text/plain": [
       "<Figure size 432x288 with 1 Axes>"
      ]
     },
     "metadata": {
      "needs_background": "light"
     },
     "output_type": "display_data"
    }
   ],
   "source": [
    "rel_freq, edges, _ = plt.hist(df['D1'], bins=7, weights=np.zeros_like(df['D1']) + 1. / n)\n",
    "midpoints = 0.5 * (edges[1:] + edges[:-1])\n",
    "print(rel_freq)\n",
    "plt.plot(midpoints, rel_freq, '--');"
   ]
  },
  {
   "cell_type": "code",
   "execution_count": 20,
   "metadata": {},
   "outputs": [],
   "source": [
    "# cumulative frequencies"
   ]
  },
  {
   "cell_type": "code",
   "execution_count": 21,
   "metadata": {},
   "outputs": [
    {
     "name": "stdout",
     "output_type": "stream",
     "text": [
      "[ 27.  65.  88. 102. 106. 110. 117.]\n"
     ]
    },
    {
     "data": {
      "image/png": "[encoded data removed]",
      "text/plain": [
       "<Figure size 432x288 with 1 Axes>"
      ]
     },
     "metadata": {
      "needs_background": "light"
     },
     "output_type": "display_data"
    }
   ],
   "source": [
    "cum_freq, edges, _ = plt.hist(df['D1'], bins=7, cumulative=True)\n",
    "print(cum_freq)\n",
    "plt.plot(edges[1:], cum_freq, '--');"
   ]
  },
  {
   "cell_type": "code",
   "execution_count": 22,
   "metadata": {},
   "outputs": [],
   "source": [
    "# relative cumulative frequencies"
   ]
  },
  {
   "cell_type": "code",
   "execution_count": 23,
   "metadata": {},
   "outputs": [
    {
     "name": "stdout",
     "output_type": "stream",
     "text": [
      "[0.23076923 0.55555556 0.75213675 0.87179487 0.90598291 0.94017094\n",
      " 1.        ]\n"
     ]
    },
    {
     "data": {
      "image/png": "[encoded data removed]",
      "text/plain": [
       "<Figure size 432x288 with 1 Axes>"
      ]
     },
     "metadata": {
      "needs_background": "light"
     },
     "output_type": "display_data"
    }
   ],
   "source": [
    "rel_cum_freq, edges, _ = plt.hist(df['D1'], bins=7, weights=np.zeros_like(df['D1']) + 1. / n, cumulative=True)\n",
    "print(rel_cum_freq)\n",
    "plt.plot(edges[1:], rel_cum_freq, '--');"
   ]
  },
  {
   "cell_type": "code",
   "execution_count": 24,
   "metadata": {},
   "outputs": [],
   "source": [
    "# ECDF"
   ]
  },
  {
   "cell_type": "code",
   "execution_count": 25,
   "metadata": {
    "scrolled": true
   },
   "outputs": [
    {
     "data": {
      "image/png": "[encoded data removed]",
      "text/plain": [
       "<Figure size 432x288 with 1 Axes>"
      ]
     },
     "metadata": {
      "needs_background": "light"
     },
     "output_type": "display_data"
    }
   ],
   "source": [
    "ecdf_1 = ECDF(df['D1'])\n",
    "plt.plot(ecdf_1.x, ecdf_1.y, lw=3)\n",
    "plt.xlabel(\"$x$\")\n",
    "plt.ylabel(\"$F(x)$\")\n",
    "plt.show()"
   ]
  },
  {
   "cell_type": "markdown",
   "metadata": {},
   "source": [
    "### Задание 2"
   ]
  },
  {
   "cell_type": "code",
   "execution_count": 26,
   "metadata": {},
   "outputs": [],
   "source": [
    "alphas = [0.01, 0.05, 0.1]"
   ]
  },
  {
   "cell_type": "markdown",
   "metadata": {},
   "source": [
    "#### Задание 2.1"
   ]
  },
  {
   "cell_type": "code",
   "execution_count": 27,
   "metadata": {},
   "outputs": [
    {
     "name": "stdout",
     "output_type": "stream",
     "text": [
      "0.01\n",
      "  lower edge: 970.6254151429223\n",
      "  higher edge: 1154.8446703271632\n",
      "0.05\n",
      "  lower edge: 993.0736300913798\n",
      "  higher edge: 1132.3964553787057\n",
      "0.1\n",
      "  lower edge: 1004.4174746014318\n",
      "  higher edge: 1121.0526108686536\n"
     ]
    }
   ],
   "source": [
    "for alpha in alphas:\n",
    "    interval = (df['D1'].std() / (n ** 0.5)) * sps.t.ppf(1 - alpha / 2, n - 1)\n",
    "    print(alpha)\n",
    "    print('  lower edge:', df['D1'].mean() - interval)\n",
    "    print('  higher edge:', df['D1'].mean() + interval)"
   ]
  },
  {
   "cell_type": "code",
   "execution_count": 28,
   "metadata": {},
   "outputs": [
    {
     "data": {
      "text/plain": [
       "1062.7350427350427"
      ]
     },
     "execution_count": 28,
     "metadata": {},
     "output_type": "execute_result"
    }
   ],
   "source": [
    "df['D1'].mean()"
   ]
  },
  {
   "cell_type": "markdown",
   "metadata": {},
   "source": [
    "#### Задание 2.2"
   ]
  },
  {
   "cell_type": "code",
   "execution_count": 29,
   "metadata": {},
   "outputs": [
    {
     "name": "stdout",
     "output_type": "stream",
     "text": [
      "0.01\n",
      "  lower edge: 105606.03863704317\n",
      "  higher edge: 208500.99389153466\n",
      "\n",
      "0.05\n",
      "  lower edge: 113669.06878932094\n",
      "  higher edge: 190602.276810545\n",
      "\n",
      "0.1\n",
      "  lower edge: 118117.09664537023\n",
      "  higher edge: 182223.60893777115\n",
      "\n"
     ]
    }
   ],
   "source": [
    "for alpha in alphas:\n",
    "    lower_edge = (n - 1) * df['D1'].var() /(sps.chi2.ppf(1 - alpha / 2, n - 1))\n",
    "    higher_edge = df['D1'].var() * (n - 1) /(sps.chi2.ppf(alpha / 2, n - 1))\n",
    "    print(alpha)\n",
    "\n",
    "    print('  lower edge:', lower_edge)\n",
    "    print('  higher edge:', higher_edge)\n",
    "    print()"
   ]
  },
  {
   "cell_type": "code",
   "execution_count": 30,
   "metadata": {},
   "outputs": [
    {
     "data": {
      "text/plain": [
       "144732.29988211024"
      ]
     },
     "execution_count": 30,
     "metadata": {},
     "output_type": "execute_result"
    }
   ],
   "source": [
    "df['D1'].var()"
   ]
  },
  {
   "cell_type": "markdown",
   "metadata": {},
   "source": [
    "#### Задание 2.3"
   ]
  },
  {
   "cell_type": "code",
   "execution_count": 31,
   "metadata": {},
   "outputs": [],
   "source": [
    "alphas = [0.01, 0.05, 0.1]"
   ]
  },
  {
   "cell_type": "code",
   "execution_count": 32,
   "metadata": {},
   "outputs": [
    {
     "name": "stdout",
     "output_type": "stream",
     "text": [
      "0.01\n",
      "  lower edge: -233.39129984183882\n",
      "  higher edge: 25.938308388847133\n",
      "\n",
      "0.05\n",
      "  lower edge: -202.09103014483668\n",
      "  higher edge: -5.361961308155017\n",
      "\n",
      "0.1\n",
      "  lower edge: -186.17521270052325\n",
      "  higher edge: -21.277778752468436\n",
      "\n"
     ]
    }
   ],
   "source": [
    "s = (((len(df['D1']) - 1) * df['D1'].var() + \\\n",
    "      (len(df['D2']) - 1) * df['D2'].var()) / \\\n",
    "      (len(df['D1']) + len(df['D2']) - 2)) ** 0.5\n",
    "for alpha in alphas:\n",
    "    interval = sps.t.ppf(1 - alpha / 2, len(df['D1']) + len(df['D2']) - 2) * \\\n",
    "    s * (1 / len(df['D1']) + 1 / len(df['D2'])) ** 0.5\n",
    "\n",
    "    print(alpha)\n",
    "\n",
    "    print('  lower edge:', (df['D1'].mean() - df['D2'].mean()) - interval)\n",
    "    print('  higher edge:', (df['D1'].mean() - df['D2'].mean()) + interval)\n",
    "    print()"
   ]
  },
  {
   "cell_type": "code",
   "execution_count": 33,
   "metadata": {},
   "outputs": [
    {
     "data": {
      "text/plain": [
       "-103.72649572649584"
      ]
     },
     "execution_count": 33,
     "metadata": {},
     "output_type": "execute_result"
    }
   ],
   "source": [
    "df['D1'].mean() - df['D2'].mean()"
   ]
  },
  {
   "cell_type": "markdown",
   "metadata": {},
   "source": [
    "#### Задание 2.4"
   ]
  },
  {
   "cell_type": "code",
   "execution_count": 34,
   "metadata": {},
   "outputs": [
    {
     "name": "stdout",
     "output_type": "stream",
     "text": [
      "0.01\n",
      "  lower edge: 0.6086836051247635\n",
      "  higher edge: 1.594933469837988\n",
      "\n",
      "0.05\n",
      "  lower edge: 0.6834763195091621\n",
      "  higher edge: 1.4204001318616584\n",
      "\n",
      "0.1\n",
      "  lower edge: 0.7250537238003864\n",
      "  higher edge: 1.3389488564607488\n",
      "\n"
     ]
    }
   ],
   "source": [
    "for alpha in alphas:\n",
    "    lower_edge = (df['D1'].var() / df['D2'].var()) * (sps.f.ppf(alpha / 2, len(df['D2']) - 1, n - 1))\n",
    "    higher_edge = (df['D1'].var() / df['D2'].var()) * (sps.f.ppf(1- alpha / 2, len(df['D2']) - 1, n - 1))\n",
    "    print(alpha)\n",
    "\n",
    "    print('  lower edge:', lower_edge)\n",
    "    print('  higher edge:', higher_edge)\n",
    "    print()"
   ]
  },
  {
   "cell_type": "code",
   "execution_count": 35,
   "metadata": {},
   "outputs": [
    {
     "data": {
      "text/plain": [
       "0.9852968356567146"
      ]
     },
     "execution_count": 35,
     "metadata": {},
     "output_type": "execute_result"
    }
   ],
   "source": [
    "df['D1'].var() / df['D2'].var()"
   ]
  },
  {
   "cell_type": "markdown",
   "metadata": {},
   "source": [
    "### Задание 3"
   ]
  },
  {
   "cell_type": "code",
   "execution_count": 36,
   "metadata": {},
   "outputs": [
    {
     "data": {
      "text/plain": [
       "count     117.000000\n",
       "mean     1062.735043\n",
       "std       380.436985\n",
       "min       540.000000\n",
       "25%       780.000000\n",
       "50%       960.000000\n",
       "75%      1200.000000\n",
       "max      2150.000000\n",
       "Name: D1, dtype: float64"
      ]
     },
     "execution_count": 36,
     "metadata": {},
     "output_type": "execute_result"
    }
   ],
   "source": [
    "df['D1'].describe()"
   ]
  },
  {
   "cell_type": "markdown",
   "metadata": {},
   "source": [
    "#### 3.1 t-test 1 sample"
   ]
  },
  {
   "cell_type": "code",
   "execution_count": 37,
   "metadata": {},
   "outputs": [
    {
     "data": {
      "text/plain": [
       "Ttest_1sampResult(statistic=4.626912445708453, pvalue=9.732412519177559e-06)"
      ]
     },
     "execution_count": 37,
     "metadata": {},
     "output_type": "execute_result"
    }
   ],
   "source": [
    "sps.ttest_1samp(df['D1'], 900)"
   ]
  },
  {
   "cell_type": "code",
   "execution_count": 38,
   "metadata": {},
   "outputs": [
    {
     "data": {
      "text/plain": [
       "Ttest_1sampResult(statistic=-0.007533313330723074, pvalue=0.9940022828366375)"
      ]
     },
     "execution_count": 38,
     "metadata": {},
     "output_type": "execute_result"
    }
   ],
   "source": [
    "sps.ttest_1samp(df['D1'], 1063)"
   ]
  },
  {
   "cell_type": "code",
   "execution_count": 39,
   "metadata": {},
   "outputs": [
    {
     "data": {
      "text/plain": [
       "Ttest_1sampResult(statistic=-3.9027423255292946, pvalue=0.0001600412580532881)"
      ]
     },
     "execution_count": 39,
     "metadata": {},
     "output_type": "execute_result"
    }
   ],
   "source": [
    "sps.ttest_1samp(df['D1'], 1200)"
   ]
  },
  {
   "cell_type": "code",
   "execution_count": 40,
   "metadata": {},
   "outputs": [
    {
     "name": "stdout",
     "output_type": "stream",
     "text": [
      "H_0 отклоняется\n"
     ]
    }
   ],
   "source": [
    "if (sps.ttest_1samp(df['D1'], 900)[1] < 0.1):\n",
    "    print(\"H_0 отклоняется\")\n",
    "else:\n",
    "    print(\"H_0 принимается\")"
   ]
  },
  {
   "cell_type": "code",
   "execution_count": 41,
   "metadata": {},
   "outputs": [
    {
     "name": "stdout",
     "output_type": "stream",
     "text": [
      "H_0 принимается\n"
     ]
    }
   ],
   "source": [
    "if (sps.ttest_1samp(df['D1'], 1063)[1] < 0.1):\n",
    "    print(\"H_0 отклоняется\")\n",
    "else:\n",
    "    print(\"H_0 принимается\")"
   ]
  },
  {
   "cell_type": "code",
   "execution_count": 42,
   "metadata": {},
   "outputs": [
    {
     "name": "stdout",
     "output_type": "stream",
     "text": [
      "H_0 отклоняется\n"
     ]
    }
   ],
   "source": [
    "if (sps.ttest_1samp(df['D1'], 1200)[1] < 0.1):\n",
    "    print(\"H_0 отклоняется\")\n",
    "else:\n",
    "    print(\"H_0 принимается\")"
   ]
  },
  {
   "cell_type": "markdown",
   "metadata": {},
   "source": [
    "#### 3.2 chisquare (m - неизвестно)"
   ]
  },
  {
   "cell_type": "code",
   "execution_count": 43,
   "metadata": {},
   "outputs": [],
   "source": [
    "def one_sample_chi_test_unknown(x, sigma0):\n",
    "    S_squared = 1 / (len(x) - 1) * sum([(i - x.mean()) ** 2 for i in x])\n",
    "    z = (len(x) - 1) * S_squared / sigma0 ** 2\n",
    "    f = sps.chi2.cdf(z, df=len(x)-1)\n",
    "    return z, 2 * min(f, 1 - f)"
   ]
  },
  {
   "cell_type": "code",
   "execution_count": 44,
   "metadata": {},
   "outputs": [
    {
     "name": "stdout",
     "output_type": "stream",
     "text": [
      "(116.26694450363426, 0.9511276194516962)\n"
     ]
    }
   ],
   "source": [
    "print(one_sample_chi_test_unknown(df['D1'], 380))"
   ]
  },
  {
   "cell_type": "code",
   "execution_count": 45,
   "metadata": {},
   "outputs": [
    {
     "name": "stdout",
     "output_type": "stream",
     "text": [
      "(115.65742028730023, 0.9830191460535891)\n"
     ]
    }
   ],
   "source": [
    "print(one_sample_chi_test_unknown(df['D1'], 381))"
   ]
  },
  {
   "cell_type": "code",
   "execution_count": 46,
   "metadata": {},
   "outputs": [
    {
     "name": "stdout",
     "output_type": "stream",
     "text": [
      "(79.34284870663889, 0.00746371825488968)\n"
     ]
    }
   ],
   "source": [
    "print(one_sample_chi_test_unknown(df['D1'], 460))"
   ]
  },
  {
   "cell_type": "code",
   "execution_count": 47,
   "metadata": {},
   "outputs": [
    {
     "name": "stdout",
     "output_type": "stream",
     "text": [
      "H_0 принимается\n"
     ]
    }
   ],
   "source": [
    "if (one_sample_chi_test_unknown(df['D1'], 380)[1] < 0.1):\n",
    "    print(\"H_0 отклоняется\")\n",
    "else:\n",
    "    print(\"H_0 принимается\")"
   ]
  },
  {
   "cell_type": "code",
   "execution_count": 48,
   "metadata": {},
   "outputs": [
    {
     "name": "stdout",
     "output_type": "stream",
     "text": [
      "H_0 принимается\n"
     ]
    }
   ],
   "source": [
    "if (one_sample_chi_test_unknown(df['D1'], 381)[1] < 0.1):\n",
    "    print(\"H_0 отклоняется\")\n",
    "else:\n",
    "    print(\"H_0 принимается\")"
   ]
  },
  {
   "cell_type": "code",
   "execution_count": 49,
   "metadata": {},
   "outputs": [
    {
     "name": "stdout",
     "output_type": "stream",
     "text": [
      "H_0 отклоняется\n"
     ]
    }
   ],
   "source": [
    "if (one_sample_chi_test_unknown(df['D1'], 460)[1] < 0.1):\n",
    "    print(\"H_0 отклоняется\")\n",
    "else:\n",
    "    print(\"H_0 принимается\")"
   ]
  },
  {
   "cell_type": "markdown",
   "metadata": {},
   "source": [
    "#### 3.3 t-test: $ m_1 = m_2 $"
   ]
  },
  {
   "cell_type": "code",
   "execution_count": 50,
   "metadata": {},
   "outputs": [
    {
     "data": {
      "text/plain": [
       "count     117.000000\n",
       "mean     1062.735043\n",
       "std       380.436985\n",
       "min       540.000000\n",
       "25%       780.000000\n",
       "50%       960.000000\n",
       "75%      1200.000000\n",
       "max      2150.000000\n",
       "Name: D1, dtype: float64"
      ]
     },
     "execution_count": 50,
     "metadata": {},
     "output_type": "execute_result"
    }
   ],
   "source": [
    "df['D1'].describe()"
   ]
  },
  {
   "cell_type": "code",
   "execution_count": 51,
   "metadata": {},
   "outputs": [
    {
     "data": {
      "text/plain": [
       "count     117.000000\n",
       "mean     1166.461538\n",
       "std       383.265024\n",
       "min       594.000000\n",
       "25%       904.000000\n",
       "50%      1067.000000\n",
       "75%      1286.000000\n",
       "max      2307.000000\n",
       "Name: D2, dtype: float64"
      ]
     },
     "execution_count": 51,
     "metadata": {},
     "output_type": "execute_result"
    }
   ],
   "source": [
    "df['D2'].describe()"
   ]
  },
  {
   "cell_type": "code",
   "execution_count": 52,
   "metadata": {},
   "outputs": [],
   "source": [
    "def two_sample_t_test(x, y):\n",
    "    S_1 = (1 / (len(x) - 1) * sum([(i - x.mean()) ** 2 for i in x])) \n",
    "    S_2 = (1 / (len(y) - 1) * sum([(i - y.mean()) ** 2 for i in y]))\n",
    "    S = ((len(x) - 1) * S_1 + (len(y) - 1) * S_2) / (len(x) + len(y) - 2)\n",
    "    z = (x.mean() - y.mean()) * (1 / len(x) + 1 / len(y)) ** 0.5 / S ** 0.5\n",
    "    f = sps.t.cdf(z, df=len(x)+len(y)-2)\n",
    "    return z, 2 * min(f, 1 - f)"
   ]
  },
  {
   "cell_type": "code",
   "execution_count": 53,
   "metadata": {},
   "outputs": [
    {
     "name": "stdout",
     "output_type": "stream",
     "text": [
      "(-0.03551524851622991, 0.9716994257968214)\n"
     ]
    }
   ],
   "source": [
    "print(two_sample_t_test(df['D1'], df['D2']))"
   ]
  },
  {
   "cell_type": "code",
   "execution_count": 54,
   "metadata": {},
   "outputs": [
    {
     "name": "stdout",
     "output_type": "stream",
     "text": [
      "H_0 принимается\n"
     ]
    }
   ],
   "source": [
    "if (two_sample_t_test(df['D1'], df['D2'])[1] < 0.01):\n",
    "    print(\"H_0 отклоняется\")\n",
    "else:\n",
    "    print(\"H_0 принимается\")"
   ]
  },
  {
   "cell_type": "code",
   "execution_count": 55,
   "metadata": {},
   "outputs": [
    {
     "name": "stdout",
     "output_type": "stream",
     "text": [
      "H_0 принимается\n"
     ]
    }
   ],
   "source": [
    "if (two_sample_t_test(df['D1'], df['D2'])[1] < 0.05):\n",
    "    print(\"H_0 отклоняется\")\n",
    "else:\n",
    "    print(\"H_0 принимается\")"
   ]
  },
  {
   "cell_type": "code",
   "execution_count": 56,
   "metadata": {},
   "outputs": [
    {
     "name": "stdout",
     "output_type": "stream",
     "text": [
      "H_0 принимается\n"
     ]
    }
   ],
   "source": [
    "if (two_sample_t_test(df['D1'], df['D2'])[1] < 0.1):\n",
    "    print(\"H_0 отклоняется\")\n",
    "else:\n",
    "    print(\"H_0 принимается\")"
   ]
  },
  {
   "cell_type": "markdown",
   "metadata": {},
   "source": [
    "#### 3.4 F-test: $ \\sigma_1 = \\sigma_2 $"
   ]
  },
  {
   "cell_type": "code",
   "execution_count": 57,
   "metadata": {},
   "outputs": [],
   "source": [
    "# f-test: var_1 = var_2 (means are unknown)\n",
    "def two_sample_f_test(x, y):\n",
    "    S_1 = 1 / (len(x) - 1) * sum([(i - x.mean()) ** 2 for i in x])\n",
    "    S_2 = 1 / (len(y) - 1) * sum([(i - y.mean()) ** 2 for i in y])\n",
    "    z = S_1 / S_2\n",
    "    f = sps.f.cdf(z, dfn=len(x)-1, dfd=len(y)-1)\n",
    "    return z, 2 * min(f, 1 - f)"
   ]
  },
  {
   "cell_type": "code",
   "execution_count": 58,
   "metadata": {},
   "outputs": [
    {
     "name": "stdout",
     "output_type": "stream",
     "text": [
      "(0.9852968356567146, 0.9365595818669057)\n"
     ]
    }
   ],
   "source": [
    "print(two_sample_f_test(df['D1'], df['D2']))"
   ]
  },
  {
   "cell_type": "code",
   "execution_count": 59,
   "metadata": {},
   "outputs": [
    {
     "name": "stdout",
     "output_type": "stream",
     "text": [
      "H_0 принимается\n"
     ]
    }
   ],
   "source": [
    "if (two_sample_f_test(df['D1'], df['D2'])[1] < 0.01):\n",
    "    print(\"H_0 отклоняется\")\n",
    "else:\n",
    "    print(\"H_0 принимается\")"
   ]
  },
  {
   "cell_type": "code",
   "execution_count": 60,
   "metadata": {},
   "outputs": [
    {
     "name": "stdout",
     "output_type": "stream",
     "text": [
      "H_0 принимается\n"
     ]
    }
   ],
   "source": [
    "if (two_sample_f_test(df['D1'], df['D2'])[1] < 0.05):\n",
    "    print(\"H_0 отклоняется\")\n",
    "else:\n",
    "    print(\"H_0 принимается\")"
   ]
  },
  {
   "cell_type": "code",
   "execution_count": 61,
   "metadata": {},
   "outputs": [
    {
     "name": "stdout",
     "output_type": "stream",
     "text": [
      "H_0 принимается\n"
     ]
    }
   ],
   "source": [
    "if (two_sample_f_test(df['D1'], df['D2'])[1] < 0.1):\n",
    "    print(\"H_0 отклоняется\")\n",
    "else:\n",
    "    print(\"H_0 принимается\")"
   ]
  },
  {
   "cell_type": "markdown",
   "metadata": {},
   "source": [
    "### Задание 4"
   ]
  },
  {
   "cell_type": "markdown",
   "metadata": {},
   "source": [
    "#### Задание 4.1"
   ]
  },
  {
   "cell_type": "code",
   "execution_count": 62,
   "metadata": {},
   "outputs": [
    {
     "name": "stdout",
     "output_type": "stream",
     "text": [
      "7.870364719583405\n",
      "7\n"
     ]
    }
   ],
   "source": [
    "k = 1 + math.log2(n)\n",
    "\n",
    "print(k)\n",
    "print(int(k)) # число групп"
   ]
  },
  {
   "cell_type": "code",
   "execution_count": 63,
   "metadata": {},
   "outputs": [
    {
     "data": {
      "text/plain": [
       "230"
      ]
     },
     "execution_count": 63,
     "metadata": {},
     "output_type": "execute_result"
    }
   ],
   "source": [
    "# шаг интервала\n",
    "\n",
    "h = int((df['D1'].max() - df['D1'].min()) / int(k))\n",
    "h"
   ]
  },
  {
   "cell_type": "code",
   "execution_count": 64,
   "metadata": {},
   "outputs": [],
   "source": [
    "# frequencies"
   ]
  },
  {
   "cell_type": "code",
   "execution_count": 65,
   "metadata": {},
   "outputs": [
    {
     "name": "stdout",
     "output_type": "stream",
     "text": [
      "[27. 38. 23. 14.  4.  4.  7.]\n",
      "[ 770. 1000. 1230. 1460. 1690. 1920. 2150.]\n",
      "[ 540.  770. 1000. 1230. 1460. 1690. 1920.]\n"
     ]
    },
    {
     "data": {
      "image/png": "[encoded data removed]",
      "text/plain": [
       "<Figure size 432x288 with 1 Axes>"
      ]
     },
     "metadata": {
      "needs_background": "light"
     },
     "output_type": "display_data"
    }
   ],
   "source": [
    "freq, edges, _ = plt.hist(df['D1'], bins=7)\n",
    "midpoints = 0.5 * (edges[1:] + edges[:-1])\n",
    "print(freq)\n",
    "print(edges[1:]) # верхние границы\n",
    "print(edges[:-1]) # нижние границы"
   ]
  },
  {
   "cell_type": "code",
   "execution_count": 66,
   "metadata": {},
   "outputs": [],
   "source": [
    "# relative frequencies"
   ]
  },
  {
   "cell_type": "code",
   "execution_count": 67,
   "metadata": {},
   "outputs": [
    {
     "name": "stdout",
     "output_type": "stream",
     "text": [
      "[0.23076923 0.32478632 0.1965812  0.11965812 0.03418803 0.03418803\n",
      " 0.05982906]\n"
     ]
    },
    {
     "data": {
      "image/png": "[encoded data removed]",
      "text/plain": [
       "<Figure size 432x288 with 1 Axes>"
      ]
     },
     "metadata": {
      "needs_background": "light"
     },
     "output_type": "display_data"
    }
   ],
   "source": [
    "rel_freq, edges, _ = plt.hist(df['D1'], bins=7, weights=np.zeros_like(df['D1']) + 1. / n)\n",
    "midpoints = 0.5 * (edges[1:] + edges[:-1])\n",
    "print(rel_freq)"
   ]
  },
  {
   "cell_type": "code",
   "execution_count": 68,
   "metadata": {},
   "outputs": [
    {
     "data": {
      "image/png": "[encoded data removed]",
      "text/plain": [
       "<Figure size 432x288 with 1 Axes>"
      ]
     },
     "metadata": {
      "needs_background": "light"
     },
     "output_type": "display_data"
    }
   ],
   "source": [
    "sns_plot = sns.distplot(df['D1'], bins=7)\n",
    "fig = sns_plot.get_figure()"
   ]
  },
  {
   "cell_type": "code",
   "execution_count": 69,
   "metadata": {
    "scrolled": true
   },
   "outputs": [
    {
     "name": "stdout",
     "output_type": "stream",
     "text": [
      "7.870364719583405\n",
      "7\n"
     ]
    }
   ],
   "source": [
    "k = 1 + math.log2(n)\n",
    "\n",
    "print(k)\n",
    "print(int(k)) # число групп"
   ]
  },
  {
   "cell_type": "code",
   "execution_count": 70,
   "metadata": {},
   "outputs": [
    {
     "data": {
      "text/plain": [
       "230"
      ]
     },
     "execution_count": 70,
     "metadata": {},
     "output_type": "execute_result"
    }
   ],
   "source": [
    "# шаг интервала\n",
    "\n",
    "h = int((df['D1'].max() - df['D1'].min()) / int(k))\n",
    "h"
   ]
  },
  {
   "cell_type": "markdown",
   "metadata": {},
   "source": [
    "Сгенерируем выборку, имеющую нормальное распределение:"
   ]
  },
  {
   "cell_type": "code",
   "execution_count": 71,
   "metadata": {},
   "outputs": [],
   "source": [
    "# norm_distr = sps.norm.rvs(size=n, loc=df['D1'].mean(), scale=df['D1'].std())"
   ]
  },
  {
   "cell_type": "code",
   "execution_count": 72,
   "metadata": {},
   "outputs": [],
   "source": [
    "# norm_distr"
   ]
  },
  {
   "cell_type": "code",
   "execution_count": 73,
   "metadata": {},
   "outputs": [],
   "source": [
    "norm = np.array([ 832.4506857 , 1256.11587943, 1308.61751986, 1287.93163111,\n",
    "       1421.87523674, 1126.58526635,  955.17608098, 1469.73449581,\n",
    "       1317.76324816,  440.93218313,  832.81710474, 1158.3327054 ,\n",
    "       1489.93658936, 1280.85094662, 1038.93604286, 1004.98593086,\n",
    "       1035.85100021,  816.34782223, 1789.52429064, 1113.53443154,\n",
    "        629.64900375,  737.03344503, 1247.84775342, 1478.46224022,\n",
    "        908.50703623, 1149.44849686, 1575.2042677 , 1218.2012319 ,\n",
    "        986.13383724, 1126.34233551, 1251.16127301, 1496.40649618,\n",
    "        372.57984274,  722.59452914, 1308.14623565, 1288.7185144 ,\n",
    "        461.91622173, 1220.63070062, 1040.2038548 ,  495.2532603 ,\n",
    "        765.20699591,  760.89452492,  973.84836217, 1768.37905682,\n",
    "        135.17079437,  859.97222958, 1099.60574181,  880.29904583,\n",
    "        968.80976143, 1235.65935493, 1429.62410722, 1144.16281291,\n",
    "        722.4439374 ,  620.77134339,  828.57458929, 1402.53963296,\n",
    "        737.92899784,  856.36759052, 1251.87562662,  975.91486099,\n",
    "       1493.75803093, 1873.03888881, 1056.91948338, 1192.65937996,\n",
    "        809.45062844,  960.11084839,  874.04910179, 1052.42137938,\n",
    "       1199.85989202, 1219.4431593 , 1798.49139136,  268.8105626 ,\n",
    "       1406.83860035,  937.25492118, 1016.04330951, 1285.26713957,\n",
    "        557.52439391,  773.5843548 , 1414.87755527,  384.11782171,\n",
    "       1882.98575305,  870.23929765, 1408.49511765, 1152.16570035,\n",
    "       1001.23905854, 1281.0792234 ,  515.12477989, 2041.95126703,\n",
    "        656.02259422, 1665.36338688, 1369.23687692, 1084.03064342,\n",
    "       1140.88888074, 1565.45858259,  748.65091329,  933.46857865,\n",
    "       1012.86484095, 1379.4281887 , 1148.59235026,  535.24001605,\n",
    "       1192.50613654, 1162.35129334, 1635.35786804,  545.5354864 ,\n",
    "        635.14484972, 1972.19048202, 1302.9726228 ,  856.61858931,\n",
    "        823.92462792, 1222.6739568 ,  931.21597141, 1675.93854553,\n",
    "        456.24484555, 1492.37604567, 1100.70001587, 1374.38296056,\n",
    "       1170.77103349])"
   ]
  },
  {
   "cell_type": "markdown",
   "metadata": {},
   "source": [
    "Строим таблицу частот"
   ]
  },
  {
   "cell_type": "code",
   "execution_count": 74,
   "metadata": {},
   "outputs": [],
   "source": [
    "# посмотрели границы, которые пересекаются для обоих графиков\n",
    "left = min(min(df['D1']), min(norm))\n",
    "right = max(max(df['D1']), max(norm))\n",
    "step = (right - left) / 7\n",
    "bins = [left + step * i for i in range(0, 7 + 1)]"
   ]
  },
  {
   "cell_type": "code",
   "execution_count": 75,
   "metadata": {},
   "outputs": [],
   "source": [
    "# frequencies"
   ]
  },
  {
   "cell_type": "code",
   "execution_count": 76,
   "metadata": {},
   "outputs": [
    {
     "name": "stdout",
     "output_type": "stream",
     "text": [
      "[ 0. 13. 52. 29. 10.  5.  5.]\n",
      "[ 423.00353803  710.83628169  998.66902535 1286.50176902 1574.33451268\n",
      " 1862.16725634 2150.        ]\n",
      "[ 135.17079437  423.00353803  710.83628169  998.66902535 1286.50176902\n",
      " 1574.33451268 1862.16725634]\n",
      "\n",
      "[ 4. 12. 30. 38. 22.  7.  4.]\n",
      "[ 423.00353803  710.83628169  998.66902535 1286.50176902 1574.33451268\n",
      " 1862.16725634 2150.        ]\n",
      "[ 135.17079437  423.00353803  710.83628169  998.66902535 1286.50176902\n",
      " 1574.33451268 1862.16725634]\n"
     ]
    },
    {
     "data": {
      "image/png": "[encoded data removed]",
      "text/plain": [
       "<Figure size 432x288 with 1 Axes>"
      ]
     },
     "metadata": {
      "needs_background": "light"
     },
     "output_type": "display_data"
    }
   ],
   "source": [
    "freq_1, edges_1, _ = plt.hist(df['D1'], bins=bins, alpha=0.5)\n",
    "print(freq_1)\n",
    "print(edges_1[1:]) # верхние границы\n",
    "print(edges_1[:-1]) # нижние границы\n",
    "print()\n",
    "\n",
    "freq_2, edges_2, _ = plt.hist(norm, bins=bins, alpha=0.5)\n",
    "print(freq_2)\n",
    "print(edges_2[1:]) # верхние границы\n",
    "print(edges_2[:-1]) # нижние границы"
   ]
  },
  {
   "cell_type": "code",
   "execution_count": 77,
   "metadata": {},
   "outputs": [],
   "source": [
    "# relative frequencies"
   ]
  },
  {
   "cell_type": "code",
   "execution_count": 78,
   "metadata": {},
   "outputs": [
    {
     "name": "stdout",
     "output_type": "stream",
     "text": [
      "[0.         0.11111111 0.44444444 0.24786325 0.08547009 0.04273504\n",
      " 0.04273504]\n",
      "[ 423.00353803  710.83628169  998.66902535 1286.50176902 1574.33451268\n",
      " 1862.16725634 2150.        ]\n",
      "[ 135.17079437  423.00353803  710.83628169  998.66902535 1286.50176902\n",
      " 1574.33451268 1862.16725634]\n",
      "\n",
      "[0.03418803 0.1025641  0.25641026 0.32478632 0.18803419 0.05982906\n",
      " 0.03418803]\n",
      "[ 423.00353803  710.83628169  998.66902535 1286.50176902 1574.33451268\n",
      " 1862.16725634 2150.        ]\n",
      "[ 135.17079437  423.00353803  710.83628169  998.66902535 1286.50176902\n",
      " 1574.33451268 1862.16725634]\n"
     ]
    },
    {
     "data": {
      "image/png": "[encoded data removed]",
      "text/plain": [
       "<Figure size 432x288 with 1 Axes>"
      ]
     },
     "metadata": {
      "needs_background": "light"
     },
     "output_type": "display_data"
    }
   ],
   "source": [
    "rel_freq_1, edges_1, _ = plt.hist(df['D1'], bins=bins, alpha=0.5, weights=np.zeros_like(df['D1']) + 1. / n)\n",
    "print(rel_freq_1)\n",
    "print(edges_1[1:]) # верхние границы\n",
    "print(edges_1[:-1]) # нижние границы\n",
    "print()\n",
    "\n",
    "rel_freq_2, edges_2, _ = plt.hist(norm, bins=bins, alpha=0.5, weights=np.zeros_like(norm) + 1. / n)\n",
    "print(rel_freq_2)\n",
    "print(edges_2[1:]) # верхние границы\n",
    "print(edges_2[:-1]) # нижние границы"
   ]
  },
  {
   "cell_type": "code",
   "execution_count": 79,
   "metadata": {},
   "outputs": [
    {
     "data": {
      "text/plain": [
       "287.83274366142854"
      ]
     },
     "execution_count": 79,
     "metadata": {},
     "output_type": "execute_result"
    }
   ],
   "source": [
    "# шаг интервала (новый)\n",
    "step"
   ]
  },
  {
   "cell_type": "code",
   "execution_count": 80,
   "metadata": {},
   "outputs": [
    {
     "name": "stdout",
     "output_type": "stream",
     "text": [
      "[0.13609214692215943, 0.21370330732455395, 0.2353999176037641, 0.18190101507278056, 0.09859455413672424, 0.03747624248154746, 0.009985917421687085]\n"
     ]
    }
   ],
   "source": [
    "# вероятность попадания в диапазон\n",
    "loc=df['D1'].mean()\n",
    "scale=df['D1'].std()\n",
    "\n",
    "probs = [sps.norm.cdf(edges[i], loc=loc, scale=scale) - \\\n",
    "         sps.norm.cdf(edges[i - 1], loc=loc, scale=scale)\n",
    "         for i in range(1, int(k) + 1)]\n",
    "print(probs)"
   ]
  },
  {
   "cell_type": "code",
   "execution_count": 81,
   "metadata": {},
   "outputs": [],
   "source": [
    "# частоты\n",
    "f_1 = [ 0., 13., 52., 29., 10.,  5.,  5.]\n",
    "f_2 = [ 4., 12., 30., 38., 22.,  7.,  4.]"
   ]
  },
  {
   "cell_type": "code",
   "execution_count": 82,
   "metadata": {},
   "outputs": [
    {
     "data": {
      "text/plain": [
       "Power_divergenceResult(statistic=29.715128730918206, pvalue=5.593430734493954e-06)"
      ]
     },
     "execution_count": 82,
     "metadata": {},
     "output_type": "execute_result"
    }
   ],
   "source": [
    "sps.chisquare(f_obs=f_1, f_exp=f_2, ddof=2)"
   ]
  },
  {
   "cell_type": "code",
   "execution_count": 83,
   "metadata": {},
   "outputs": [
    {
     "name": "stdout",
     "output_type": "stream",
     "text": [
      "H_0 отклоняется\n"
     ]
    }
   ],
   "source": [
    "if (sps.chisquare(f_obs=f_1, f_exp=f_2, ddof=2)[1] < 0.01):\n",
    "    print(\"H_0 отклоняется\")\n",
    "else:\n",
    "    print(\"H_0 принимается\")"
   ]
  },
  {
   "cell_type": "code",
   "execution_count": 84,
   "metadata": {},
   "outputs": [
    {
     "name": "stdout",
     "output_type": "stream",
     "text": [
      "H_0 отклоняется\n"
     ]
    }
   ],
   "source": [
    "if (sps.chisquare(f_obs=f_1, f_exp=f_2, ddof=2)[1] < 0.05):\n",
    "    print(\"H_0 отклоняется\")\n",
    "else:\n",
    "    print(\"H_0 принимается\")"
   ]
  },
  {
   "cell_type": "code",
   "execution_count": 85,
   "metadata": {},
   "outputs": [
    {
     "name": "stdout",
     "output_type": "stream",
     "text": [
      "H_0 отклоняется\n"
     ]
    }
   ],
   "source": [
    "if (sps.chisquare(f_obs=f_1, f_exp=f_2, ddof=2)[1] < 0.1):\n",
    "    print(\"H_0 отклоняется\")\n",
    "else:\n",
    "    print(\"H_0 принимается\")"
   ]
  },
  {
   "cell_type": "markdown",
   "metadata": {},
   "source": [
    "#### Задание 4.2"
   ]
  },
  {
   "cell_type": "code",
   "execution_count": 86,
   "metadata": {},
   "outputs": [
    {
     "data": {
      "text/plain": [
       "DescribeResult(nobs=117, minmax=(540, 2150), mean=1062.7350427350427, variance=144732.2998821102, skewness=1.3577070081186777, kurtosis=1.3354933162777254)"
      ]
     },
     "execution_count": 86,
     "metadata": {},
     "output_type": "execute_result"
    }
   ],
   "source": [
    "sps.describe(df['D1'])"
   ]
  },
  {
   "cell_type": "markdown",
   "metadata": {},
   "source": [
    "$ N(0, 1): $ skewness = 0, kurtosis = 3"
   ]
  },
  {
   "cell_type": "code",
   "execution_count": 87,
   "metadata": {},
   "outputs": [
    {
     "data": {
      "text/plain": [
       "(44.64045142732867, 2.0251123000747384e-10)"
      ]
     },
     "execution_count": 87,
     "metadata": {},
     "output_type": "execute_result"
    }
   ],
   "source": [
    "sps.jarque_bera(df['D1'])"
   ]
  },
  {
   "cell_type": "code",
   "execution_count": 88,
   "metadata": {},
   "outputs": [
    {
     "name": "stdout",
     "output_type": "stream",
     "text": [
      "H_0 отклоняется\n"
     ]
    }
   ],
   "source": [
    "if (sps.jarque_bera(df['D1'])[1] < 0.01):\n",
    "    print(\"H_0 отклоняется\")\n",
    "else:\n",
    "    print(\"H_0 принимается\")"
   ]
  },
  {
   "cell_type": "code",
   "execution_count": 89,
   "metadata": {},
   "outputs": [
    {
     "name": "stdout",
     "output_type": "stream",
     "text": [
      "H_0 отклоняется\n"
     ]
    }
   ],
   "source": [
    "if (sps.jarque_bera(df['D1'])[1] < 0.05):\n",
    "    print(\"H_0 отклоняется\")\n",
    "else:\n",
    "    print(\"H_0 принимается\")"
   ]
  },
  {
   "cell_type": "code",
   "execution_count": 90,
   "metadata": {},
   "outputs": [
    {
     "name": "stdout",
     "output_type": "stream",
     "text": [
      "H_0 отклоняется\n"
     ]
    }
   ],
   "source": [
    "if (sps.jarque_bera(df['D1'])[1] < 0.1):\n",
    "    print(\"H_0 отклоняется\")\n",
    "else:\n",
    "    print(\"H_0 принимается\")"
   ]
  },
  {
   "cell_type": "markdown",
   "metadata": {},
   "source": [
    "В дополнение, чтобы понять, в каком из 2-х первых тестов вероятнее всего ошибка:"
   ]
  },
  {
   "cell_type": "code",
   "execution_count": 91,
   "metadata": {},
   "outputs": [
    {
     "data": {
      "text/plain": [
       "NormaltestResult(statistic=30.867672679032715, pvalue=1.9823030224704876e-07)"
      ]
     },
     "execution_count": 91,
     "metadata": {},
     "output_type": "execute_result"
    }
   ],
   "source": [
    "sps.normaltest(df['D1'])"
   ]
  },
  {
   "cell_type": "code",
   "execution_count": 92,
   "metadata": {},
   "outputs": [
    {
     "data": {
      "text/plain": [
       "KstestResult(statistic=1.0, pvalue=0.0)"
      ]
     },
     "execution_count": 92,
     "metadata": {},
     "output_type": "execute_result"
    }
   ],
   "source": [
    "sps.kstest(df['D1'], 'norm')"
   ]
  },
  {
   "cell_type": "code",
   "execution_count": 93,
   "metadata": {},
   "outputs": [
    {
     "data": {
      "text/plain": [
       "(0.8615155816078186, 4.560787303375946e-09)"
      ]
     },
     "execution_count": 93,
     "metadata": {},
     "output_type": "execute_result"
    }
   ],
   "source": [
    "sps.shapiro(df['D1'])"
   ]
  },
  {
   "cell_type": "markdown",
   "metadata": {},
   "source": [
    "**Вывод:** скорее всего, гипотеза отклоняется. Все тесты показали именно это."
   ]
  },
  {
   "cell_type": "markdown",
   "metadata": {},
   "source": [
    "### Задание 5"
   ]
  },
  {
   "cell_type": "markdown",
   "metadata": {},
   "source": [
    "#### Задание 5.1"
   ]
  },
  {
   "cell_type": "code",
   "execution_count": 94,
   "metadata": {},
   "outputs": [
    {
     "data": {
      "text/plain": [
       "(-58.5, 1.2037062152420224e-35)"
      ]
     },
     "execution_count": 94,
     "metadata": {},
     "output_type": "execute_result"
    }
   ],
   "source": [
    "sign_test(df['D1'], df['D2'])"
   ]
  },
  {
   "cell_type": "code",
   "execution_count": 95,
   "metadata": {},
   "outputs": [
    {
     "data": {
      "text/plain": [
       "WilcoxonResult(statistic=0.0, pvalue=6.141719974490892e-21)"
      ]
     },
     "execution_count": 95,
     "metadata": {},
     "output_type": "execute_result"
    }
   ],
   "source": [
    "sps.wilcoxon(df['D1'], df['D2'], alternative='two-sided')"
   ]
  },
  {
   "cell_type": "code",
   "execution_count": 96,
   "metadata": {},
   "outputs": [
    {
     "name": "stdout",
     "output_type": "stream",
     "text": [
      "H_0 отклоняется\n"
     ]
    }
   ],
   "source": [
    "if (sign_test(df['D1'], df['D2'])[1] < 0.01):\n",
    "    print(\"H_0 отклоняется\")\n",
    "else:\n",
    "    print(\"H_0 принимается\")"
   ]
  },
  {
   "cell_type": "code",
   "execution_count": 97,
   "metadata": {},
   "outputs": [
    {
     "name": "stdout",
     "output_type": "stream",
     "text": [
      "H_0 отклоняется\n"
     ]
    }
   ],
   "source": [
    "if (sign_test(df['D1'], df['D2'])[1] < 0.05):\n",
    "    print(\"H_0 отклоняется\")\n",
    "else:\n",
    "    print(\"H_0 принимается\")"
   ]
  },
  {
   "cell_type": "code",
   "execution_count": 98,
   "metadata": {},
   "outputs": [
    {
     "name": "stdout",
     "output_type": "stream",
     "text": [
      "H_0 отклоняется\n"
     ]
    }
   ],
   "source": [
    "if (sign_test(df['D1'], df['D2'])[1] < 0.1):\n",
    "    print(\"H_0 отклоняется\")\n",
    "else:\n",
    "    print(\"H_0 принимается\")"
   ]
  },
  {
   "cell_type": "markdown",
   "metadata": {},
   "source": [
    "#### Задание 5.2"
   ]
  },
  {
   "cell_type": "code",
   "execution_count": 99,
   "metadata": {
    "scrolled": true
   },
   "outputs": [
    {
     "name": "stdout",
     "output_type": "stream",
     "text": [
      "7.870364719583405\n",
      "7\n"
     ]
    }
   ],
   "source": [
    "k = 1 + math.log2(n)\n",
    "\n",
    "print(k)\n",
    "print(int(k)) # число групп"
   ]
  },
  {
   "cell_type": "code",
   "execution_count": 100,
   "metadata": {},
   "outputs": [
    {
     "data": {
      "text/plain": [
       "230"
      ]
     },
     "execution_count": 100,
     "metadata": {},
     "output_type": "execute_result"
    }
   ],
   "source": [
    "# шаг интервала\n",
    "\n",
    "h = int((df['D1'].max() - df['D1'].min()) / int(k))\n",
    "h"
   ]
  },
  {
   "cell_type": "markdown",
   "metadata": {},
   "source": [
    "Строим таблицу частот"
   ]
  },
  {
   "cell_type": "code",
   "execution_count": 101,
   "metadata": {},
   "outputs": [],
   "source": [
    "# посмотрели границы, которые пересекаются для обоих графиков\n",
    "left = min(min(df['D1']), min(df['D2']))\n",
    "right = max(max(df['D1']), max(df['D2']))\n",
    "step = (right - left) / 7\n",
    "bins = [left + step * i for i in range(0, 7 + 1)]"
   ]
  },
  {
   "cell_type": "code",
   "execution_count": 102,
   "metadata": {},
   "outputs": [],
   "source": [
    "# frequencies"
   ]
  },
  {
   "cell_type": "code",
   "execution_count": 103,
   "metadata": {},
   "outputs": [
    {
     "name": "stdout",
     "output_type": "stream",
     "text": [
      "[30. 40. 25.  7.  6.  4.  5.]\n",
      "[ 792.42857143 1044.85714286 1297.28571429 1549.71428571 1802.14285714\n",
      " 2054.57142857 2307.        ]\n",
      "[ 540.          792.42857143 1044.85714286 1297.28571429 1549.71428571\n",
      " 1802.14285714 2054.57142857]\n",
      "\n",
      "[10. 43. 35. 13.  5.  5.  6.]\n",
      "[ 792.42857143 1044.85714286 1297.28571429 1549.71428571 1802.14285714\n",
      " 2054.57142857 2307.        ]\n",
      "[ 540.          792.42857143 1044.85714286 1297.28571429 1549.71428571\n",
      " 1802.14285714 2054.57142857]\n"
     ]
    },
    {
     "data": {
      "image/png": "[encoded data removed]",
      "text/plain": [
       "<Figure size 432x288 with 1 Axes>"
      ]
     },
     "metadata": {
      "needs_background": "light"
     },
     "output_type": "display_data"
    }
   ],
   "source": [
    "freq_1, edges_1, _ = plt.hist(df['D1'], bins=bins, alpha=0.5)\n",
    "print(freq_1)\n",
    "print(edges_1[1:]) # верхние границы\n",
    "print(edges_1[:-1]) # нижние границы\n",
    "print()\n",
    "\n",
    "freq_2, edges_2, _ = plt.hist(df['D2'], bins=bins, alpha=0.5)\n",
    "print(freq_2)\n",
    "print(edges_2[1:]) # верхние границы\n",
    "print(edges_2[:-1]) # нижние границы"
   ]
  },
  {
   "cell_type": "code",
   "execution_count": 104,
   "metadata": {},
   "outputs": [],
   "source": [
    "# relative frequencies"
   ]
  },
  {
   "cell_type": "code",
   "execution_count": 105,
   "metadata": {},
   "outputs": [
    {
     "name": "stdout",
     "output_type": "stream",
     "text": [
      "[0.25641026 0.34188034 0.21367521 0.05982906 0.05128205 0.03418803\n",
      " 0.04273504]\n",
      "[ 792.42857143 1044.85714286 1297.28571429 1549.71428571 1802.14285714\n",
      " 2054.57142857 2307.        ]\n",
      "[ 540.          792.42857143 1044.85714286 1297.28571429 1549.71428571\n",
      " 1802.14285714 2054.57142857]\n",
      "\n",
      "[0.08547009 0.36752137 0.2991453  0.11111111 0.04273504 0.04273504\n",
      " 0.05128205]\n",
      "[ 792.42857143 1044.85714286 1297.28571429 1549.71428571 1802.14285714\n",
      " 2054.57142857 2307.        ]\n",
      "[ 540.          792.42857143 1044.85714286 1297.28571429 1549.71428571\n",
      " 1802.14285714 2054.57142857]\n"
     ]
    },
    {
     "data": {
      "image/png": "[encoded data removed]",
      "text/plain": [
       "<Figure size 432x288 with 1 Axes>"
      ]
     },
     "metadata": {
      "needs_background": "light"
     },
     "output_type": "display_data"
    }
   ],
   "source": [
    "rel_freq_1, edges_1, _ = plt.hist(df['D1'], bins=bins, alpha=0.5, weights=np.zeros_like(df['D1']) + 1. / n)\n",
    "print(rel_freq_1)\n",
    "print(edges_1[1:]) # верхние границы\n",
    "print(edges_1[:-1]) # нижние границы\n",
    "print()\n",
    "\n",
    "rel_freq_2, edges_2, _ = plt.hist(df['D2'], bins=bins, alpha=0.5, weights=np.zeros_like(df['D2']) + 1. / n)\n",
    "print(rel_freq_2)\n",
    "print(edges_2[1:]) # верхние границы\n",
    "print(edges_2[:-1]) # нижние границы"
   ]
  },
  {
   "cell_type": "code",
   "execution_count": 106,
   "metadata": {},
   "outputs": [
    {
     "data": {
      "text/plain": [
       "252.42857142857142"
      ]
     },
     "execution_count": 106,
     "metadata": {},
     "output_type": "execute_result"
    }
   ],
   "source": [
    "# шаг интервала (новый)\n",
    "step"
   ]
  },
  {
   "cell_type": "code",
   "execution_count": 107,
   "metadata": {},
   "outputs": [],
   "source": [
    "# частоты\n",
    "f_1 = [30., 40., 25.,  7.,  6.,  4.,  5.]\n",
    "f_2 = [10., 43., 35., 13.,  5.,  5.,  6.]"
   ]
  },
  {
   "cell_type": "code",
   "execution_count": 108,
   "metadata": {},
   "outputs": [
    {
     "data": {
      "text/plain": [
       "Power_divergenceResult(statistic=46.40234261862169, pvalue=2.030933543192438e-09)"
      ]
     },
     "execution_count": 108,
     "metadata": {},
     "output_type": "execute_result"
    }
   ],
   "source": [
    "sps.chisquare(f_obs=f_1, f_exp=f_2, ddof=2)"
   ]
  },
  {
   "cell_type": "code",
   "execution_count": 109,
   "metadata": {},
   "outputs": [
    {
     "name": "stdout",
     "output_type": "stream",
     "text": [
      "H_0 отклоняется\n"
     ]
    }
   ],
   "source": [
    "if (sps.chisquare(f_obs=f_1, f_exp=f_2, ddof=2)[1] < 0.01):\n",
    "    print(\"H_0 отклоняется\")\n",
    "else:\n",
    "    print(\"H_0 принимается\")"
   ]
  },
  {
   "cell_type": "code",
   "execution_count": 110,
   "metadata": {},
   "outputs": [
    {
     "name": "stdout",
     "output_type": "stream",
     "text": [
      "H_0 отклоняется\n"
     ]
    }
   ],
   "source": [
    "if (sps.chisquare(f_obs=f_1, f_exp=f_2, ddof=2)[1] < 0.05):\n",
    "    print(\"H_0 отклоняется\")\n",
    "else:\n",
    "    print(\"H_0 принимается\")"
   ]
  },
  {
   "cell_type": "code",
   "execution_count": 111,
   "metadata": {},
   "outputs": [
    {
     "name": "stdout",
     "output_type": "stream",
     "text": [
      "H_0 отклоняется\n"
     ]
    }
   ],
   "source": [
    "if (sps.chisquare(f_obs=f_1, f_exp=f_2, ddof=2)[1] < 0.1):\n",
    "    print(\"H_0 отклоняется\")\n",
    "else:\n",
    "    print(\"H_0 принимается\")"
   ]
  },
  {
   "cell_type": "markdown",
   "metadata": {},
   "source": [
    "В дополнение, чтобы понять, в каком из 2-х первых тестов вероятнее всего ошибка:"
   ]
  },
  {
   "cell_type": "code",
   "execution_count": 112,
   "metadata": {},
   "outputs": [
    {
     "data": {
      "text/plain": [
       "Ks_2sampResult(statistic=0.2222222222222222, pvalue=0.006048763280613777)"
      ]
     },
     "execution_count": 112,
     "metadata": {},
     "output_type": "execute_result"
    }
   ],
   "source": [
    "sps.ks_2samp(df['D1'], df['D2'], alternative='two-sided')"
   ]
  },
  {
   "cell_type": "code",
   "execution_count": 113,
   "metadata": {},
   "outputs": [
    {
     "data": {
      "text/plain": [
       "RanksumsResult(statistic=-2.781207054109696, pvalue=0.005415718377644362)"
      ]
     },
     "execution_count": 113,
     "metadata": {},
     "output_type": "execute_result"
    }
   ],
   "source": [
    "sps.ranksums(df['D1'], df['D2'])"
   ]
  },
  {
   "cell_type": "code",
   "execution_count": 114,
   "metadata": {},
   "outputs": [
    {
     "data": {
      "text/plain": [
       "MannwhitneyuResult(statistic=5404.5, pvalue=0.005431284787793249)"
      ]
     },
     "execution_count": 114,
     "metadata": {},
     "output_type": "execute_result"
    }
   ],
   "source": [
    "sps.mannwhitneyu(df['D1'], df['D2'], alternative='two-sided')"
   ]
  },
  {
   "cell_type": "markdown",
   "metadata": {},
   "source": [
    "**Вывод:** скорее всего, гипотеза отклоняется. Все тесты показали именно это."
   ]
  },
  {
   "cell_type": "markdown",
   "metadata": {},
   "source": [
    "### Задание 6"
   ]
  },
  {
   "cell_type": "code",
   "execution_count": 115,
   "metadata": {},
   "outputs": [
    {
     "data": {
      "text/plain": [
       "array(['north', 'south', 'other'], dtype=object)"
      ]
     },
     "execution_count": 115,
     "metadata": {},
     "output_type": "execute_result"
    }
   ],
   "source": [
    "df['D7'].unique()"
   ]
  },
  {
   "cell_type": "code",
   "execution_count": 116,
   "metadata": {},
   "outputs": [
    {
     "data": {
      "text/plain": [
       "array(['Y', 'N'], dtype=object)"
      ]
     },
     "execution_count": 116,
     "metadata": {},
     "output_type": "execute_result"
    }
   ],
   "source": [
    "df['D8'].unique()"
   ]
  },
  {
   "cell_type": "markdown",
   "metadata": {},
   "source": [
    "Суммы:"
   ]
  },
  {
   "cell_type": "code",
   "execution_count": 117,
   "metadata": {},
   "outputs": [
    {
     "data": {
      "text/plain": [
       "D7\n",
       "north    41\n",
       "other    31\n",
       "south    45\n",
       "Name: D7, dtype: int64"
      ]
     },
     "execution_count": 117,
     "metadata": {},
     "output_type": "execute_result"
    }
   ],
   "source": [
    "df.groupby('D7')['D7'].count()"
   ]
  },
  {
   "cell_type": "code",
   "execution_count": 118,
   "metadata": {},
   "outputs": [
    {
     "data": {
      "text/plain": [
       "117"
      ]
     },
     "execution_count": 118,
     "metadata": {},
     "output_type": "execute_result"
    }
   ],
   "source": [
    "df.groupby('D7')['D7'].count().sum()"
   ]
  },
  {
   "cell_type": "code",
   "execution_count": 119,
   "metadata": {},
   "outputs": [
    {
     "data": {
      "text/plain": [
       "D8\n",
       "N    90\n",
       "Y    27\n",
       "Name: D8, dtype: int64"
      ]
     },
     "execution_count": 119,
     "metadata": {},
     "output_type": "execute_result"
    }
   ],
   "source": [
    "df.groupby('D8')['D8'].count()"
   ]
  },
  {
   "cell_type": "markdown",
   "metadata": {},
   "source": [
    "Строки:"
   ]
  },
  {
   "cell_type": "code",
   "execution_count": 120,
   "metadata": {},
   "outputs": [],
   "source": [
    "north = df[df['D7'] == 'north']"
   ]
  },
  {
   "cell_type": "code",
   "execution_count": 121,
   "metadata": {},
   "outputs": [],
   "source": [
    "south = df[df['D7'] == 'south']"
   ]
  },
  {
   "cell_type": "code",
   "execution_count": 122,
   "metadata": {},
   "outputs": [],
   "source": [
    "other = df[df['D7'] == 'other']"
   ]
  },
  {
   "cell_type": "code",
   "execution_count": 123,
   "metadata": {},
   "outputs": [
    {
     "data": {
      "text/plain": [
       "D8\n",
       "N    29\n",
       "Y    12\n",
       "Name: D8, dtype: int64"
      ]
     },
     "execution_count": 123,
     "metadata": {},
     "output_type": "execute_result"
    }
   ],
   "source": [
    "n = north.groupby('D8')['D8'].count()\n",
    "n"
   ]
  },
  {
   "cell_type": "code",
   "execution_count": 124,
   "metadata": {},
   "outputs": [
    {
     "data": {
      "text/plain": [
       "D8\n",
       "N    35\n",
       "Y    10\n",
       "Name: D8, dtype: int64"
      ]
     },
     "execution_count": 124,
     "metadata": {},
     "output_type": "execute_result"
    }
   ],
   "source": [
    "s = south.groupby('D8')['D8'].count()\n",
    "s"
   ]
  },
  {
   "cell_type": "code",
   "execution_count": 125,
   "metadata": {},
   "outputs": [
    {
     "data": {
      "text/plain": [
       "D8\n",
       "N    26\n",
       "Y     5\n",
       "Name: D8, dtype: int64"
      ]
     },
     "execution_count": 125,
     "metadata": {},
     "output_type": "execute_result"
    }
   ],
   "source": [
    "o = other.groupby('D8')['D8'].count()\n",
    "o"
   ]
  },
  {
   "cell_type": "code",
   "execution_count": 126,
   "metadata": {},
   "outputs": [
    {
     "data": {
      "text/plain": [
       "array([[29, 12],\n",
       "       [35, 10],\n",
       "       [26,  5]])"
      ]
     },
     "execution_count": 126,
     "metadata": {},
     "output_type": "execute_result"
    }
   ],
   "source": [
    "# эмпирическая\n",
    "table = np.array([n, s, o])\n",
    "table"
   ]
  },
  {
   "cell_type": "code",
   "execution_count": 127,
   "metadata": {},
   "outputs": [
    {
     "data": {
      "text/plain": [
       "array([[31.53846154,  9.46153846],\n",
       "       [34.61538462, 10.38461538],\n",
       "       [23.84615385,  7.15384615]])"
      ]
     },
     "execution_count": 127,
     "metadata": {},
     "output_type": "execute_result"
    }
   ],
   "source": [
    "# теоретическая\n",
    "sps.chi2_contingency(table)[3]"
   ]
  },
  {
   "cell_type": "code",
   "execution_count": 128,
   "metadata": {},
   "outputs": [
    {
     "data": {
      "text/plain": [
       "array([90., 27.])"
      ]
     },
     "execution_count": 128,
     "metadata": {},
     "output_type": "execute_result"
    }
   ],
   "source": [
    "sps.chi2_contingency(table)[3].sum(axis=0) # суммы по столбцам"
   ]
  },
  {
   "cell_type": "code",
   "execution_count": 129,
   "metadata": {},
   "outputs": [
    {
     "data": {
      "text/plain": [
       "array([41., 45., 31.])"
      ]
     },
     "execution_count": 129,
     "metadata": {},
     "output_type": "execute_result"
    }
   ],
   "source": [
    "sps.chi2_contingency(table)[3].sum(axis=1) # суммы по строкам"
   ]
  },
  {
   "cell_type": "code",
   "execution_count": 130,
   "metadata": {},
   "outputs": [
    {
     "data": {
      "text/plain": [
       "117.0"
      ]
     },
     "execution_count": 130,
     "metadata": {},
     "output_type": "execute_result"
    }
   ],
   "source": [
    "sps.chi2_contingency(table)[3].sum()"
   ]
  },
  {
   "cell_type": "code",
   "execution_count": 131,
   "metadata": {},
   "outputs": [
    {
     "data": {
      "text/plain": [
       "(1.7468951248652274, 0.41750967453006105, 2)"
      ]
     },
     "execution_count": 131,
     "metadata": {},
     "output_type": "execute_result"
    }
   ],
   "source": [
    "sps.chi2_contingency(table)[0:3] # statistic, p-value, ddof"
   ]
  },
  {
   "cell_type": "code",
   "execution_count": 132,
   "metadata": {},
   "outputs": [
    {
     "name": "stdout",
     "output_type": "stream",
     "text": [
      "H_0 принимается\n"
     ]
    }
   ],
   "source": [
    "if (sps.chi2_contingency(table)[1] < 0.01):\n",
    "    print(\"H_0 отклоняется\")\n",
    "else:\n",
    "    print(\"H_0 принимается\")"
   ]
  },
  {
   "cell_type": "code",
   "execution_count": 133,
   "metadata": {},
   "outputs": [
    {
     "name": "stdout",
     "output_type": "stream",
     "text": [
      "H_0 принимается\n"
     ]
    }
   ],
   "source": [
    "if (sps.chi2_contingency(table)[1] < 0.05):\n",
    "    print(\"H_0 отклоняется\")\n",
    "else:\n",
    "    print(\"H_0 принимается\")"
   ]
  },
  {
   "cell_type": "code",
   "execution_count": 134,
   "metadata": {},
   "outputs": [
    {
     "name": "stdout",
     "output_type": "stream",
     "text": [
      "H_0 принимается\n"
     ]
    }
   ],
   "source": [
    "if (sps.chi2_contingency(table)[1] < 0.1):\n",
    "    print(\"H_0 отклоняется\")\n",
    "else:\n",
    "    print(\"H_0 принимается\")"
   ]
  },
  {
   "cell_type": "markdown",
   "metadata": {},
   "source": [
    "Статистическая гипотеза об отсутствии статистической связи между признаками D7 и D8 **подтвердилась** $ \\Rightarrow $ признаки независимы."
   ]
  },
  {
   "cell_type": "markdown",
   "metadata": {},
   "source": [
    "### Задание 7"
   ]
  },
  {
   "cell_type": "code",
   "execution_count": 135,
   "metadata": {},
   "outputs": [
    {
     "data": {
      "text/plain": [
       "array(['north', 'south', 'other'], dtype=object)"
      ]
     },
     "execution_count": 135,
     "metadata": {},
     "output_type": "execute_result"
    }
   ],
   "source": [
    "df['D7'].unique()"
   ]
  },
  {
   "cell_type": "markdown",
   "metadata": {},
   "source": [
    "Суммы:"
   ]
  },
  {
   "cell_type": "code",
   "execution_count": 136,
   "metadata": {},
   "outputs": [
    {
     "data": {
      "text/plain": [
       "D7\n",
       "north    41\n",
       "other    31\n",
       "south    45\n",
       "Name: D7, dtype: int64"
      ]
     },
     "execution_count": 136,
     "metadata": {},
     "output_type": "execute_result"
    }
   ],
   "source": [
    "df.groupby('D7')['D7'].count()"
   ]
  },
  {
   "cell_type": "code",
   "execution_count": 137,
   "metadata": {},
   "outputs": [],
   "source": [
    "north = df[df['D7'] == 'north']"
   ]
  },
  {
   "cell_type": "code",
   "execution_count": 138,
   "metadata": {},
   "outputs": [],
   "source": [
    "south = df[df['D7'] == 'south']"
   ]
  },
  {
   "cell_type": "code",
   "execution_count": 139,
   "metadata": {},
   "outputs": [],
   "source": [
    "other = df[df['D7'] == 'other']"
   ]
  },
  {
   "cell_type": "code",
   "execution_count": 140,
   "metadata": {},
   "outputs": [
    {
     "name": "stdout",
     "output_type": "stream",
     "text": [
      "1259.0731707317073\n",
      "926.1555555555556\n",
      "1001.3225806451613\n"
     ]
    }
   ],
   "source": [
    "# групповые средние\n",
    "north_mean = north['D1'].mean()\n",
    "south_mean = south['D1'].mean()\n",
    "other_mean = other['D1'].mean()\n",
    "\n",
    "print(north_mean)\n",
    "print(south_mean)\n",
    "print(other_mean)"
   ]
  },
  {
   "cell_type": "code",
   "execution_count": 141,
   "metadata": {},
   "outputs": [
    {
     "data": {
      "text/plain": [
       "1062.7350427350427"
      ]
     },
     "execution_count": 141,
     "metadata": {},
     "output_type": "execute_result"
    }
   ],
   "source": [
    "# общее среднее\n",
    "mean = df['D1'].mean()\n",
    "mean"
   ]
  },
  {
   "cell_type": "code",
   "execution_count": 142,
   "metadata": {},
   "outputs": [
    {
     "name": "stdout",
     "output_type": "stream",
     "text": [
      "175188.5695121951\n",
      "85783.22525252523\n",
      "115670.09247311827\n"
     ]
    }
   ],
   "source": [
    "# групповые дисперсии\n",
    "north_var = north['D1'].var()\n",
    "south_var = south['D1'].var()\n",
    "other_var = other['D1'].var()\n",
    "\n",
    "print(north_var)\n",
    "print(south_var)\n",
    "print(other_var)"
   ]
  },
  {
   "cell_type": "code",
   "execution_count": 143,
   "metadata": {},
   "outputs": [],
   "source": [
    "# общая дисперсия\n",
    "groups = [north['D1'], south['D1'], other['D1']]\n",
    "D_x = 0\n",
    "\n",
    "for group in groups:\n",
    "    for i in group:\n",
    "        D_x += (i - mean) ** 2\n",
    "D_x /= len(df['D1'])"
   ]
  },
  {
   "cell_type": "code",
   "execution_count": 144,
   "metadata": {},
   "outputs": [
    {
     "data": {
      "text/plain": [
       "143495.27167798963"
      ]
     },
     "execution_count": 144,
     "metadata": {},
     "output_type": "execute_result"
    }
   ],
   "source": [
    "D_x"
   ]
  },
  {
   "cell_type": "code",
   "execution_count": 145,
   "metadata": {},
   "outputs": [
    {
     "name": "stdout",
     "output_type": "stream",
     "text": [
      "41\n",
      "45\n",
      "31\n"
     ]
    }
   ],
   "source": [
    "print(len(north))\n",
    "print(len(south))\n",
    "print(len(other))"
   ]
  },
  {
   "cell_type": "code",
   "execution_count": 146,
   "metadata": {},
   "outputs": [],
   "source": [
    "n = len(df['D1'])\n",
    "# n = 117\n",
    "k = len(df['D7'].unique())\n",
    "# k = 3"
   ]
  },
  {
   "cell_type": "code",
   "execution_count": 147,
   "metadata": {},
   "outputs": [
    {
     "data": {
      "text/plain": [
       "21682.387354977098"
      ]
     },
     "execution_count": 147,
     "metadata": {},
     "output_type": "execute_result"
    }
   ],
   "source": [
    "D_m = (len(north) * (north_mean - mean) ** 2 + \\\n",
    "len(south) * (south_mean - mean) ** 2 + \\\n",
    "len(other) * (other_mean - mean) ** 2) / n\n",
    "\n",
    "D_m"
   ]
  },
  {
   "cell_type": "code",
   "execution_count": 148,
   "metadata": {},
   "outputs": [
    {
     "data": {
      "text/plain": [
       "125032.04575239574"
      ]
     },
     "execution_count": 148,
     "metadata": {},
     "output_type": "execute_result"
    }
   ],
   "source": [
    "D_vn = (len(north) * north_var + len(south) * south_var + \\\n",
    "len(other) * other_var) / n\n",
    "\n",
    "D_vn"
   ]
  },
  {
   "cell_type": "code",
   "execution_count": 149,
   "metadata": {},
   "outputs": [
    {
     "data": {
      "text/plain": [
       "143495.27167798963"
      ]
     },
     "execution_count": 149,
     "metadata": {},
     "output_type": "execute_result"
    }
   ],
   "source": [
    "D_x"
   ]
  },
  {
   "cell_type": "code",
   "execution_count": 150,
   "metadata": {},
   "outputs": [
    {
     "data": {
      "text/plain": [
       "146714.43310737284"
      ]
     },
     "execution_count": 150,
     "metadata": {},
     "output_type": "execute_result"
    }
   ],
   "source": [
    "D_x_sum = D_m + D_vn\n",
    "\n",
    "D_x_sum"
   ]
  },
  {
   "cell_type": "code",
   "execution_count": 151,
   "metadata": {},
   "outputs": [
    {
     "data": {
      "text/plain": [
       "2.243391988975891"
      ]
     },
     "execution_count": 151,
     "metadata": {},
     "output_type": "execute_result"
    }
   ],
   "source": [
    "# погрешность измерений\n",
    "(D_x_sum - D_x) / D_x * 100"
   ]
  },
  {
   "cell_type": "code",
   "execution_count": 152,
   "metadata": {},
   "outputs": [
    {
     "name": "stdout",
     "output_type": "stream",
     "text": [
      "2 114 116\n"
     ]
    }
   ],
   "source": [
    "# dof - degrees of freedom\n",
    "dof_m = k - 1\n",
    "dof_vn = n - k\n",
    "dof_x = n - 1\n",
    "print(dof_m, dof_vn, dof_x)"
   ]
  },
  {
   "cell_type": "code",
   "execution_count": 153,
   "metadata": {},
   "outputs": [
    {
     "name": "stdout",
     "output_type": "stream",
     "text": [
      "1268419.6602661603 128322.36274587984 144732.29988211024\n"
     ]
    }
   ],
   "source": [
    "# несмещенные оценки\n",
    "print(n * D_m / (dof_m), n * D_vn / (dof_vn), n * D_x / (dof_x))"
   ]
  },
  {
   "cell_type": "code",
   "execution_count": 154,
   "metadata": {},
   "outputs": [
    {
     "data": {
      "text/plain": [
       "0.15110175479254417"
      ]
     },
     "execution_count": 154,
     "metadata": {},
     "output_type": "execute_result"
    }
   ],
   "source": [
    "eta_sq = D_m / D_x\n",
    "\n",
    "eta_sq"
   ]
  },
  {
   "cell_type": "code",
   "execution_count": 155,
   "metadata": {},
   "outputs": [
    {
     "data": {
      "text/plain": [
       "0.38871809167125754"
      ]
     },
     "execution_count": 155,
     "metadata": {},
     "output_type": "execute_result"
    }
   ],
   "source": [
    "eta = math.sqrt(eta_sq)\n",
    "\n",
    "eta"
   ]
  },
  {
   "cell_type": "markdown",
   "metadata": {},
   "source": [
    "$ 0.3 \\lt \\eta \\lt 0.5 \\Rightarrow $ связь **умеренная** (шкала Чеддока)"
   ]
  },
  {
   "cell_type": "markdown",
   "metadata": {},
   "source": [
    "Дисперсионный анализ имеет следующие **условия применимости**:\n",
    "\n",
    "* нормальность распределений данных в каждой группе \n",
    "* однородность групповых дисперсий\n",
    "\n",
    "\n",
    "#### Проверка на нормальность:"
   ]
  },
  {
   "cell_type": "code",
   "execution_count": 156,
   "metadata": {},
   "outputs": [
    {
     "name": "stdout",
     "output_type": "stream",
     "text": [
      "0.8615155816078186 4.560787303375946e-09\n"
     ]
    }
   ],
   "source": [
    "stat_n1, p_value_n1 = sps.shapiro(df['D1'])\n",
    "print(stat_n1, p_value_n1)"
   ]
  },
  {
   "cell_type": "markdown",
   "metadata": {},
   "source": [
    "Условия нормальности не соблюдаются.\n",
    "\n",
    "\n",
    "#### Проверка на однородность групповых дисперсий:"
   ]
  },
  {
   "cell_type": "code",
   "execution_count": 157,
   "metadata": {},
   "outputs": [
    {
     "name": "stdout",
     "output_type": "stream",
     "text": [
      "5.343235007097796 0.06914030013322649\n"
     ]
    }
   ],
   "source": [
    "stat_b, p_value_b = sps.bartlett(north['D1'], south['D1'], other['D1'])\n",
    "print(stat_b, p_value_b)"
   ]
  },
  {
   "cell_type": "code",
   "execution_count": 158,
   "metadata": {},
   "outputs": [
    {
     "name": "stdout",
     "output_type": "stream",
     "text": [
      "2.7125814158735104 0.07065022128895507\n"
     ]
    }
   ],
   "source": [
    "# тест, если распредедения отличаются от нормального\n",
    "\n",
    "stat_l, p_value_l = sps.levene(north['D1'], south['D1'], other['D1'])\n",
    "print(stat_l, p_value_l)"
   ]
  },
  {
   "cell_type": "markdown",
   "metadata": {},
   "source": [
    "Условие гомоскедастичности соблюдается.\n",
    "\n",
    "Вывод: дисперсионный анализ неприменим (либо применим с большими погрешностями)"
   ]
  },
  {
   "cell_type": "code",
   "execution_count": 159,
   "metadata": {},
   "outputs": [
    {
     "data": {
      "text/plain": [
       "F_onewayResult(statistic=10.14585678766506, pvalue=8.805849173280198e-05)"
      ]
     },
     "execution_count": 159,
     "metadata": {},
     "output_type": "execute_result"
    }
   ],
   "source": [
    "sps.f_oneway(north['D1'], south['D1'], other['D1'])"
   ]
  },
  {
   "cell_type": "code",
   "execution_count": 160,
   "metadata": {},
   "outputs": [
    {
     "name": "stdout",
     "output_type": "stream",
     "text": [
      "19.728487449188346 5.2001201982902774e-05\n"
     ]
    }
   ],
   "source": [
    "# если не все условия дисперсионного анализа выполнены\n",
    "# (в отчете)\n",
    "\n",
    "statistics_k, pvalue_k = sps.kruskal(north['D1'], south['D1'], other['D1'])\n",
    "print(statistics_k, pvalue_k)"
   ]
  },
  {
   "cell_type": "code",
   "execution_count": 161,
   "metadata": {},
   "outputs": [
    {
     "name": "stdout",
     "output_type": "stream",
     "text": [
      "H_0 отклоняется\n"
     ]
    }
   ],
   "source": [
    "if (pvalue_k < 0.01):\n",
    "    print(\"H_0 отклоняется\")\n",
    "else:\n",
    "    print(\"H_0 принимается\")"
   ]
  },
  {
   "cell_type": "code",
   "execution_count": 162,
   "metadata": {},
   "outputs": [
    {
     "name": "stdout",
     "output_type": "stream",
     "text": [
      "H_0 отклоняется\n"
     ]
    }
   ],
   "source": [
    "if (pvalue_k < 0.05):\n",
    "    print(\"H_0 отклоняется\")\n",
    "else:\n",
    "    print(\"H_0 принимается\")"
   ]
  },
  {
   "cell_type": "code",
   "execution_count": 163,
   "metadata": {},
   "outputs": [
    {
     "name": "stdout",
     "output_type": "stream",
     "text": [
      "H_0 отклоняется\n"
     ]
    }
   ],
   "source": [
    "if (pvalue_k < 0.1):\n",
    "    print(\"H_0 отклоняется\")\n",
    "else:\n",
    "    print(\"H_0 принимается\")"
   ]
  },
  {
   "cell_type": "markdown",
   "metadata": {},
   "source": [
    "### Задание 8"
   ]
  },
  {
   "cell_type": "markdown",
   "metadata": {},
   "source": [
    "#### Задание 8.1"
   ]
  },
  {
   "cell_type": "code",
   "execution_count": 164,
   "metadata": {},
   "outputs": [
    {
     "name": "stdout",
     "output_type": "stream",
     "text": [
      "0.9893003768571935 5.485255176868624e-98\n"
     ]
    }
   ],
   "source": [
    "r, pvalue_r = sps.pearsonr(df['D1'], df['D2'])\n",
    "print(r, pvalue_r)\n",
    "\n",
    "#  p-value надежны, если объем выборок >= 500"
   ]
  },
  {
   "cell_type": "code",
   "execution_count": 165,
   "metadata": {},
   "outputs": [
    {
     "name": "stdout",
     "output_type": "stream",
     "text": [
      "0.9704342332377158 7.78286163459049e-73\n"
     ]
    }
   ],
   "source": [
    "rho, pvalue_rho = sps.spearmanr(df['D1'], df['D2'])\n",
    "print(rho, pvalue_rho)\n",
    "\n",
    "#  p-value надежны, если объем выборок >= 500"
   ]
  },
  {
   "cell_type": "code",
   "execution_count": 166,
   "metadata": {},
   "outputs": [
    {
     "name": "stdout",
     "output_type": "stream",
     "text": [
      "0.8653726855716564 2.434794735167035e-43\n"
     ]
    }
   ],
   "source": [
    "tau, pvalue_tau = sps.kendalltau(df['D1'], df['D2'])\n",
    "print(tau, pvalue_tau)"
   ]
  },
  {
   "cell_type": "code",
   "execution_count": 167,
   "metadata": {},
   "outputs": [
    {
     "name": "stdout",
     "output_type": "stream",
     "text": [
      "H_0 отклоняется\n"
     ]
    }
   ],
   "source": [
    "if (pvalue_r < 0.1):\n",
    "    print(\"H_0 отклоняется\")\n",
    "else:\n",
    "    print(\"H_0 принимается\")"
   ]
  },
  {
   "cell_type": "code",
   "execution_count": 168,
   "metadata": {},
   "outputs": [
    {
     "name": "stdout",
     "output_type": "stream",
     "text": [
      "H_0 отклоняется\n"
     ]
    }
   ],
   "source": [
    "if (pvalue_rho < 0.1):\n",
    "    print(\"H_0 отклоняется\")\n",
    "else:\n",
    "    print(\"H_0 принимается\")"
   ]
  },
  {
   "cell_type": "code",
   "execution_count": 169,
   "metadata": {},
   "outputs": [
    {
     "name": "stdout",
     "output_type": "stream",
     "text": [
      "H_0 отклоняется\n"
     ]
    }
   ],
   "source": [
    "if (pvalue_tau < 0.1):\n",
    "    print(\"H_0 отклоняется\")\n",
    "else:\n",
    "    print(\"H_0 принимается\")"
   ]
  },
  {
   "cell_type": "code",
   "execution_count": 170,
   "metadata": {},
   "outputs": [],
   "source": [
    "n = len(df['D1'])"
   ]
  },
  {
   "cell_type": "code",
   "execution_count": 171,
   "metadata": {},
   "outputs": [],
   "source": [
    "alphas = [0.01, 0.05, 0.1]"
   ]
  },
  {
   "cell_type": "code",
   "execution_count": 172,
   "metadata": {},
   "outputs": [
    {
     "name": "stdout",
     "output_type": "stream",
     "text": [
      "0.01\n",
      "  lower edge: -1.5884067165639815\n",
      "  higher edge: 3.567187444854377\n",
      "\n",
      "0.05\n",
      "  lower edge: -0.9725413975551349\n",
      "  higher edge: 2.9513221258455307\n",
      "\n",
      "0.1\n",
      "  lower edge: -0.657431039966553\n",
      "  higher edge: 2.6362117682569486\n",
      "\n"
     ]
    }
   ],
   "source": [
    "for alpha in alphas:\n",
    "    interval = r + r * (1 - r ** 2) / (2 * n)\n",
    "    u = sps.norm.ppf(1 - alpha / 2, (1 - r ** 2)/ (n ** 0.5))\n",
    "    print(alpha)\n",
    "    \n",
    "    print('  lower edge:', interval - u)\n",
    "    print('  higher edge:', interval + u)\n",
    "    print()"
   ]
  },
  {
   "cell_type": "code",
   "execution_count": 173,
   "metadata": {},
   "outputs": [
    {
     "name": "stdout",
     "output_type": "stream",
     "text": [
      "72.71812487044448 43.11610126452426 13.833510848483074\n"
     ]
    }
   ],
   "source": [
    "# статистики\n",
    "\n",
    "z_pearson = r * ((n - 2) ** 0.5) / ((1 - r ** 2) ** 0.5)\n",
    "z_spirman = rho * ((n - 2) ** 0.5) / ((1 - rho ** 2) ** 0.5)\n",
    "z_kendall = tau * ((9 * n * (n - 1)) / (2 * (2 * n + 5))) ** 0.5\n",
    "\n",
    "print(z_pearson, z_spirman, z_kendall)"
   ]
  },
  {
   "cell_type": "markdown",
   "metadata": {},
   "source": [
    "#### Задание 8.2"
   ]
  },
  {
   "cell_type": "code",
   "execution_count": 174,
   "metadata": {},
   "outputs": [],
   "source": [
    "small_df = pd.DataFrame()\n",
    "small_df['D1'] = df['D1']\n",
    "small_df['D2'] = df['D2']\n",
    "small_df['D3'] = df['D3']"
   ]
  },
  {
   "cell_type": "code",
   "execution_count": 175,
   "metadata": {},
   "outputs": [
    {
     "data": {
      "text/html": [
       "<div>\n",
       "<style scoped>\n",
       "    .dataframe tbody tr th:only-of-type {\n",
       "        vertical-align: middle;\n",
       "    }\n",
       "\n",
       "    .dataframe tbody tr th {\n",
       "        vertical-align: top;\n",
       "    }\n",
       "\n",
       "    .dataframe thead th {\n",
       "        text-align: right;\n",
       "    }\n",
       "</style>\n",
       "<table border=\"1\" class=\"dataframe\">\n",
       "  <thead>\n",
       "    <tr style=\"text-align: right;\">\n",
       "      <th></th>\n",
       "      <th>D1</th>\n",
       "      <th>D2</th>\n",
       "      <th>D3</th>\n",
       "    </tr>\n",
       "  </thead>\n",
       "  <tbody>\n",
       "    <tr>\n",
       "      <td>0</td>\n",
       "      <td>2050</td>\n",
       "      <td>2243</td>\n",
       "      <td>2289</td>\n",
       "    </tr>\n",
       "    <tr>\n",
       "      <td>1</td>\n",
       "      <td>2080</td>\n",
       "      <td>2255</td>\n",
       "      <td>2355</td>\n",
       "    </tr>\n",
       "    <tr>\n",
       "      <td>2</td>\n",
       "      <td>2150</td>\n",
       "      <td>2307</td>\n",
       "      <td>2443</td>\n",
       "    </tr>\n",
       "    <tr>\n",
       "      <td>3</td>\n",
       "      <td>2150</td>\n",
       "      <td>2232</td>\n",
       "      <td>2351</td>\n",
       "    </tr>\n",
       "    <tr>\n",
       "      <td>4</td>\n",
       "      <td>1999</td>\n",
       "      <td>2054</td>\n",
       "      <td>2113</td>\n",
       "    </tr>\n",
       "  </tbody>\n",
       "</table>\n",
       "</div>"
      ],
      "text/plain": [
       "     D1    D2    D3\n",
       "0  2050  2243  2289\n",
       "1  2080  2255  2355\n",
       "2  2150  2307  2443\n",
       "3  2150  2232  2351\n",
       "4  1999  2054  2113"
      ]
     },
     "execution_count": 175,
     "metadata": {},
     "output_type": "execute_result"
    }
   ],
   "source": [
    "small_df.head()"
   ]
  },
  {
   "cell_type": "code",
   "execution_count": 176,
   "metadata": {},
   "outputs": [
    {
     "data": {
      "image/png": "[encoded data removed]",
      "text/plain": [
       "<Figure size 432x288 with 2 Axes>"
      ]
     },
     "metadata": {
      "needs_background": "light"
     },
     "output_type": "display_data"
    }
   ],
   "source": [
    "# Пирсон\n",
    "corr_p = small_df.corr(method='pearson')\n",
    "sns.heatmap(corr_p, vmax=1, square=True, annot=True, cmap='cubehelix')\n",
    "plt.show()"
   ]
  },
  {
   "cell_type": "code",
   "execution_count": 177,
   "metadata": {},
   "outputs": [
    {
     "data": {
      "text/html": [
       "<div>\n",
       "<style scoped>\n",
       "    .dataframe tbody tr th:only-of-type {\n",
       "        vertical-align: middle;\n",
       "    }\n",
       "\n",
       "    .dataframe tbody tr th {\n",
       "        vertical-align: top;\n",
       "    }\n",
       "\n",
       "    .dataframe thead th {\n",
       "        text-align: right;\n",
       "    }\n",
       "</style>\n",
       "<table border=\"1\" class=\"dataframe\">\n",
       "  <thead>\n",
       "    <tr style=\"text-align: right;\">\n",
       "      <th></th>\n",
       "      <th>D1</th>\n",
       "      <th>D2</th>\n",
       "      <th>D3</th>\n",
       "    </tr>\n",
       "  </thead>\n",
       "  <tbody>\n",
       "    <tr>\n",
       "      <td>D1</td>\n",
       "      <td>1.000000</td>\n",
       "      <td>0.98930</td>\n",
       "      <td>0.989225</td>\n",
       "    </tr>\n",
       "    <tr>\n",
       "      <td>D2</td>\n",
       "      <td>0.989300</td>\n",
       "      <td>1.00000</td>\n",
       "      <td>0.979830</td>\n",
       "    </tr>\n",
       "    <tr>\n",
       "      <td>D3</td>\n",
       "      <td>0.989225</td>\n",
       "      <td>0.97983</td>\n",
       "      <td>1.000000</td>\n",
       "    </tr>\n",
       "  </tbody>\n",
       "</table>\n",
       "</div>"
      ],
      "text/plain": [
       "          D1       D2        D3\n",
       "D1  1.000000  0.98930  0.989225\n",
       "D2  0.989300  1.00000  0.979830\n",
       "D3  0.989225  0.97983  1.000000"
      ]
     },
     "execution_count": 177,
     "metadata": {},
     "output_type": "execute_result"
    }
   ],
   "source": [
    "corr_p"
   ]
  },
  {
   "cell_type": "code",
   "execution_count": 178,
   "metadata": {},
   "outputs": [
    {
     "data": {
      "image/png": "[encoded data removed]",
      "text/plain": [
       "<Figure size 432x288 with 2 Axes>"
      ]
     },
     "metadata": {
      "needs_background": "light"
     },
     "output_type": "display_data"
    }
   ],
   "source": [
    "# Кендалл !!!\n",
    "corr_k = small_df.corr(method='kendall')\n",
    "sns.heatmap(corr_k, vmax=1, square=True, annot=True, cmap='cubehelix')\n",
    "plt.show()"
   ]
  },
  {
   "cell_type": "code",
   "execution_count": 179,
   "metadata": {},
   "outputs": [
    {
     "data": {
      "text/html": [
       "<div>\n",
       "<style scoped>\n",
       "    .dataframe tbody tr th:only-of-type {\n",
       "        vertical-align: middle;\n",
       "    }\n",
       "\n",
       "    .dataframe tbody tr th {\n",
       "        vertical-align: top;\n",
       "    }\n",
       "\n",
       "    .dataframe thead th {\n",
       "        text-align: right;\n",
       "    }\n",
       "</style>\n",
       "<table border=\"1\" class=\"dataframe\">\n",
       "  <thead>\n",
       "    <tr style=\"text-align: right;\">\n",
       "      <th></th>\n",
       "      <th>D1</th>\n",
       "      <th>D2</th>\n",
       "      <th>D3</th>\n",
       "    </tr>\n",
       "  </thead>\n",
       "  <tbody>\n",
       "    <tr>\n",
       "      <td>D1</td>\n",
       "      <td>1.000000</td>\n",
       "      <td>0.865373</td>\n",
       "      <td>0.868538</td>\n",
       "    </tr>\n",
       "    <tr>\n",
       "      <td>D2</td>\n",
       "      <td>0.865373</td>\n",
       "      <td>1.000000</td>\n",
       "      <td>0.815547</td>\n",
       "    </tr>\n",
       "    <tr>\n",
       "      <td>D3</td>\n",
       "      <td>0.868538</td>\n",
       "      <td>0.815547</td>\n",
       "      <td>1.000000</td>\n",
       "    </tr>\n",
       "  </tbody>\n",
       "</table>\n",
       "</div>"
      ],
      "text/plain": [
       "          D1        D2        D3\n",
       "D1  1.000000  0.865373  0.868538\n",
       "D2  0.865373  1.000000  0.815547\n",
       "D3  0.868538  0.815547  1.000000"
      ]
     },
     "execution_count": 179,
     "metadata": {},
     "output_type": "execute_result"
    }
   ],
   "source": [
    "corr_k"
   ]
  },
  {
   "cell_type": "markdown",
   "metadata": {},
   "source": [
    "Таблица с p-value"
   ]
  },
  {
   "cell_type": "code",
   "execution_count": 180,
   "metadata": {},
   "outputs": [],
   "source": [
    "pvalue_table = pd.DataFrame()\n",
    "pvalue_table.at['D1', 'D1'] = None\n",
    "pvalue_table.at['D2', 'D2'] = None\n",
    "pvalue_table.at['D3', 'D3'] = None\n",
    "\n",
    "pvalue_table.at['D1', 'D2'] = sps.kendalltau(small_df['D1'], small_df['D2'])[1]\n",
    "pvalue_table.at['D1', 'D3'] = sps.kendalltau(small_df['D1'], small_df['D3'])[1]\n",
    "\n",
    "pvalue_table.at['D2', 'D1'] = sps.kendalltau(small_df['D2'], small_df['D1'])[1]\n",
    "pvalue_table.at['D2', 'D3'] = sps.kendalltau(small_df['D2'], small_df['D3'])[1]\n",
    "\n",
    "pvalue_table.at['D3', 'D1'] = sps.kendalltau(small_df['D3'], small_df['D1'])[1]\n",
    "pvalue_table.at['D3', 'D2'] = sps.kendalltau(small_df['D3'], small_df['D2'])[1]"
   ]
  },
  {
   "cell_type": "code",
   "execution_count": 181,
   "metadata": {},
   "outputs": [
    {
     "data": {
      "text/html": [
       "<div>\n",
       "<style scoped>\n",
       "    .dataframe tbody tr th:only-of-type {\n",
       "        vertical-align: middle;\n",
       "    }\n",
       "\n",
       "    .dataframe tbody tr th {\n",
       "        vertical-align: top;\n",
       "    }\n",
       "\n",
       "    .dataframe thead th {\n",
       "        text-align: right;\n",
       "    }\n",
       "</style>\n",
       "<table border=\"1\" class=\"dataframe\">\n",
       "  <thead>\n",
       "    <tr style=\"text-align: right;\">\n",
       "      <th></th>\n",
       "      <th>D1</th>\n",
       "      <th>D2</th>\n",
       "      <th>D3</th>\n",
       "    </tr>\n",
       "  </thead>\n",
       "  <tbody>\n",
       "    <tr>\n",
       "      <td>D1</td>\n",
       "      <td>NaN</td>\n",
       "      <td>2.434795e-43</td>\n",
       "      <td>1.223429e-43</td>\n",
       "    </tr>\n",
       "    <tr>\n",
       "      <td>D2</td>\n",
       "      <td>2.434795e-43</td>\n",
       "      <td>NaN</td>\n",
       "      <td>8.820481e-39</td>\n",
       "    </tr>\n",
       "    <tr>\n",
       "      <td>D3</td>\n",
       "      <td>1.223429e-43</td>\n",
       "      <td>8.820481e-39</td>\n",
       "      <td>NaN</td>\n",
       "    </tr>\n",
       "  </tbody>\n",
       "</table>\n",
       "</div>"
      ],
      "text/plain": [
       "              D1            D2            D3\n",
       "D1           NaN  2.434795e-43  1.223429e-43\n",
       "D2  2.434795e-43           NaN  8.820481e-39\n",
       "D3  1.223429e-43  8.820481e-39           NaN"
      ]
     },
     "execution_count": 181,
     "metadata": {},
     "output_type": "execute_result"
    }
   ],
   "source": [
    "pvalue_table"
   ]
  },
  {
   "cell_type": "code",
   "execution_count": 182,
   "metadata": {},
   "outputs": [
    {
     "data": {
      "image/png": "[encoded data removed]",
      "text/plain": [
       "<Figure size 432x288 with 2 Axes>"
      ]
     },
     "metadata": {
      "needs_background": "light"
     },
     "output_type": "display_data"
    }
   ],
   "source": [
    "# Спирмен\n",
    "corr_s = small_df.corr(method='spearman')\n",
    "sns.heatmap(corr_s, vmax=1, square=True, annot=True, cmap='cubehelix')\n",
    "plt.show()"
   ]
  },
  {
   "cell_type": "code",
   "execution_count": 183,
   "metadata": {},
   "outputs": [
    {
     "data": {
      "text/html": [
       "<div>\n",
       "<style scoped>\n",
       "    .dataframe tbody tr th:only-of-type {\n",
       "        vertical-align: middle;\n",
       "    }\n",
       "\n",
       "    .dataframe tbody tr th {\n",
       "        vertical-align: top;\n",
       "    }\n",
       "\n",
       "    .dataframe thead th {\n",
       "        text-align: right;\n",
       "    }\n",
       "</style>\n",
       "<table border=\"1\" class=\"dataframe\">\n",
       "  <thead>\n",
       "    <tr style=\"text-align: right;\">\n",
       "      <th></th>\n",
       "      <th>D1</th>\n",
       "      <th>D2</th>\n",
       "      <th>D3</th>\n",
       "    </tr>\n",
       "  </thead>\n",
       "  <tbody>\n",
       "    <tr>\n",
       "      <td>D1</td>\n",
       "      <td>1.000000</td>\n",
       "      <td>0.970434</td>\n",
       "      <td>0.973317</td>\n",
       "    </tr>\n",
       "    <tr>\n",
       "      <td>D2</td>\n",
       "      <td>0.970434</td>\n",
       "      <td>1.000000</td>\n",
       "      <td>0.950433</td>\n",
       "    </tr>\n",
       "    <tr>\n",
       "      <td>D3</td>\n",
       "      <td>0.973317</td>\n",
       "      <td>0.950433</td>\n",
       "      <td>1.000000</td>\n",
       "    </tr>\n",
       "  </tbody>\n",
       "</table>\n",
       "</div>"
      ],
      "text/plain": [
       "          D1        D2        D3\n",
       "D1  1.000000  0.970434  0.973317\n",
       "D2  0.970434  1.000000  0.950433\n",
       "D3  0.973317  0.950433  1.000000"
      ]
     },
     "execution_count": 183,
     "metadata": {},
     "output_type": "execute_result"
    }
   ],
   "source": [
    "corr_s"
   ]
  },
  {
   "cell_type": "code",
   "execution_count": 184,
   "metadata": {},
   "outputs": [
    {
     "name": "stdout",
     "output_type": "stream",
     "text": [
      "0.9764291221041659\n"
     ]
    }
   ],
   "source": [
    "D1r = sps.rankdata(df['D1'])\n",
    "D2r = sps.rankdata(df['D2'])\n",
    "D3r = sps.rankdata(df['D3'])\n",
    "n = 117\n",
    "W = 0\n",
    "x = 0\n",
    "for i in range(n):\n",
    "    for j in [D1r, D2r, D3r]:\n",
    "        x += (j[i])\n",
    "    x = (x - 0.5*3*(n+1))**2\n",
    "    W += x\n",
    "    x = 0\n",
    "W = W * (12/(9*(n**3-n)))\n",
    "print(W)"
   ]
  },
  {
   "cell_type": "code",
   "execution_count": 185,
   "metadata": {},
   "outputs": [
    {
     "data": {
      "text/plain": [
       "-15.380121561305563"
      ]
     },
     "execution_count": 185,
     "metadata": {},
     "output_type": "execute_result"
    }
   ],
   "source": [
    "stat_w = n * (tau - 1) * W\n",
    "stat_w"
   ]
  },
  {
   "cell_type": "code",
   "execution_count": 186,
   "metadata": {},
   "outputs": [
    {
     "data": {
      "text/plain": [
       "1.0"
      ]
     },
     "execution_count": 186,
     "metadata": {},
     "output_type": "execute_result"
    }
   ],
   "source": [
    "pvalue_w = 1 - sps.chi2.cdf(stat_w, df=n-1)\n",
    "pvalue_w"
   ]
  },
  {
   "cell_type": "code",
   "execution_count": 187,
   "metadata": {},
   "outputs": [
    {
     "name": "stdout",
     "output_type": "stream",
     "text": [
      "H_0 принимается\n"
     ]
    }
   ],
   "source": [
    "if (pvalue_w < 0.1):\n",
    "    print(\"H_0 отклоняется\")\n",
    "else:\n",
    "    print(\"H_0 принимается\")"
   ]
  },
  {
   "cell_type": "code",
   "execution_count": 188,
   "metadata": {},
   "outputs": [
    {
     "name": "stdout",
     "output_type": "stream",
     "text": [
      "H_0 принимается\n"
     ]
    }
   ],
   "source": [
    "if (pvalue_w < 0.1):\n",
    "    print(\"H_0 отклоняется\")\n",
    "else:\n",
    "    print(\"H_0 принимается\")"
   ]
  },
  {
   "cell_type": "code",
   "execution_count": 189,
   "metadata": {},
   "outputs": [
    {
     "name": "stdout",
     "output_type": "stream",
     "text": [
      "H_0 принимается\n"
     ]
    }
   ],
   "source": [
    "if (pvalue_w < 0.1):\n",
    "    print(\"H_0 отклоняется\")\n",
    "else:\n",
    "    print(\"H_0 принимается\")"
   ]
  },
  {
   "cell_type": "markdown",
   "metadata": {},
   "source": [
    "### Задание 9"
   ]
  },
  {
   "cell_type": "markdown",
   "metadata": {},
   "source": [
    "#### Задание 9.1.1"
   ]
  },
  {
   "cell_type": "code",
   "execution_count": 190,
   "metadata": {},
   "outputs": [
    {
     "name": "stdout",
     "output_type": "stream",
     "text": [
      "0.6136668085777299 47.819306610262174 0.8447950985552115 5.146345707630607e-33 0.036245918768573394\n"
     ]
    }
   ],
   "source": [
    "slope, intercept, rvalue, pvalue, std_err = sps.linregress(df['D4'], df['D1'])\n",
    "print(slope, intercept, rvalue, pvalue, std_err)"
   ]
  },
  {
   "cell_type": "code",
   "execution_count": 191,
   "metadata": {},
   "outputs": [],
   "source": [
    "b0 = intercept\n",
    "b1 = slope"
   ]
  },
  {
   "cell_type": "code",
   "execution_count": 192,
   "metadata": {},
   "outputs": [
    {
     "name": "stdout",
     "output_type": "stream",
     "text": [
      "47.819306610262174 0.6136668085777299\n"
     ]
    }
   ],
   "source": [
    "print(b0, b1)"
   ]
  },
  {
   "cell_type": "code",
   "execution_count": 193,
   "metadata": {},
   "outputs": [
    {
     "data": {
      "text/plain": [
       "117"
      ]
     },
     "execution_count": 193,
     "metadata": {},
     "output_type": "execute_result"
    }
   ],
   "source": [
    "n = len(df['D1'])\n",
    "n"
   ]
  },
  {
   "cell_type": "code",
   "execution_count": 194,
   "metadata": {},
   "outputs": [
    {
     "data": {
      "text/plain": [
       "102409.52734792508"
      ]
     },
     "execution_count": 194,
     "metadata": {},
     "output_type": "execute_result"
    }
   ],
   "source": [
    "D_yx = sum([(b0 + b1 * x_ - df['D1'].mean()) ** 2 for x_ in df['D4']]) / n\n",
    "D_yx"
   ]
  },
  {
   "cell_type": "code",
   "execution_count": 195,
   "metadata": {},
   "outputs": [
    {
     "data": {
      "text/plain": [
       "41085.744330064255"
      ]
     },
     "execution_count": 195,
     "metadata": {},
     "output_type": "execute_result"
    }
   ],
   "source": [
    "D_ost_y = sum([(b0 + b1 * x_ - y_) ** 2 for x_, y_ in zip(df['D4'], df['D1'])]) / n\n",
    "D_ost_y"
   ]
  },
  {
   "cell_type": "code",
   "execution_count": 196,
   "metadata": {},
   "outputs": [
    {
     "data": {
      "text/plain": [
       "143495.27167798963"
      ]
     },
     "execution_count": 196,
     "metadata": {},
     "output_type": "execute_result"
    }
   ],
   "source": [
    "D_y = sum([(y_ - df['D1'].mean()) ** 2 for y_ in df['D1']]) / n\n",
    "D_y"
   ]
  },
  {
   "cell_type": "code",
   "execution_count": 197,
   "metadata": {},
   "outputs": [
    {
     "data": {
      "text/plain": [
       "143495.27167798934"
      ]
     },
     "execution_count": 197,
     "metadata": {},
     "output_type": "execute_result"
    }
   ],
   "source": [
    "D_y_sum = D_yx + D_ost_y\n",
    "D_y_sum"
   ]
  },
  {
   "cell_type": "code",
   "execution_count": 198,
   "metadata": {},
   "outputs": [
    {
     "data": {
      "text/plain": [
       "-2.0282083246648096e-13"
      ]
     },
     "execution_count": 198,
     "metadata": {},
     "output_type": "execute_result"
    }
   ],
   "source": [
    "# погрешность измерений\n",
    "(D_y_sum - D_y) / D_y * 100"
   ]
  },
  {
   "cell_type": "code",
   "execution_count": 199,
   "metadata": {},
   "outputs": [
    {
     "name": "stdout",
     "output_type": "stream",
     "text": [
      "1 115 116\n"
     ]
    }
   ],
   "source": [
    "# dof - degrees of freedom\n",
    "k = 2\n",
    "dof_yx = k - 1\n",
    "dof_ost_y = n - k\n",
    "dof_y = n - 1\n",
    "print(dof_yx, dof_ost_y, dof_y)"
   ]
  },
  {
   "cell_type": "code",
   "execution_count": 200,
   "metadata": {},
   "outputs": [
    {
     "name": "stdout",
     "output_type": "stream",
     "text": [
      "11981914.699707234 41800.279014065374 144732.29988211024\n"
     ]
    }
   ],
   "source": [
    "# несмещенные оценки\n",
    "print(n * D_yx / (dof_yx), n * D_ost_y / (dof_ost_y), n * D_y / (dof_y))"
   ]
  },
  {
   "cell_type": "code",
   "execution_count": 201,
   "metadata": {},
   "outputs": [
    {
     "data": {
      "text/plain": [
       "0.8447950985552115"
      ]
     },
     "execution_count": 201,
     "metadata": {},
     "output_type": "execute_result"
    }
   ],
   "source": [
    "rvalue # rvalue - коэф детерминации"
   ]
  },
  {
   "cell_type": "code",
   "execution_count": 202,
   "metadata": {},
   "outputs": [
    {
     "data": {
      "text/plain": [
       "0.7136787585429095"
      ]
     },
     "execution_count": 202,
     "metadata": {},
     "output_type": "execute_result"
    }
   ],
   "source": [
    "r_sq = rvalue ** 2 # корр отношение (по нему проверяем)\n",
    "r_sq"
   ]
  },
  {
   "cell_type": "code",
   "execution_count": 203,
   "metadata": {},
   "outputs": [
    {
     "data": {
      "text/plain": [
       "71.36787585429096"
      ]
     },
     "execution_count": 203,
     "metadata": {},
     "output_type": "execute_result"
    }
   ],
   "source": [
    "r_sq * 100 # точность"
   ]
  },
  {
   "cell_type": "markdown",
   "metadata": {},
   "source": [
    "$ 0.7 \\lt R_{Y|X} \\lt 0.9 \\Rightarrow $ связь **высокая** (шкала Чеддока)"
   ]
  },
  {
   "cell_type": "markdown",
   "metadata": {},
   "source": [
    "#### Задание 9.1.2"
   ]
  },
  {
   "cell_type": "code",
   "execution_count": 204,
   "metadata": {},
   "outputs": [
    {
     "name": "stdout",
     "output_type": "stream",
     "text": [
      "b0\n",
      "0.01\n",
      " lower edge: -114.70147788453178\n",
      " higher edge: 210.34009110505613\n",
      "0.05\n",
      " lower edge: -75.08664535360363\n",
      " higher edge: 170.72525857412796\n",
      "0.1\n",
      " lower edge: -55.07009546497625\n",
      " higher edge: 150.7087086855006\n",
      "\n",
      "b1\n",
      "0.01\n",
      " lower edge: 0.5199474210735104\n",
      " higher edge: 0.7073861960819494\n",
      "0.05\n",
      " lower edge: 0.5427917474310401\n",
      " higher edge: 0.6845418697244198\n",
      "0.1\n",
      " lower edge: 0.5543345098004273\n",
      " higher edge: 0.6729991073550325\n"
     ]
    }
   ],
   "source": [
    "print('b0') \n",
    "for alpha in alphas:\n",
    "    interval = sps.t.ppf(1 - alpha/2, n - 2) * D_ost_y ** 0.5 * (sum([x_ ** 2 for x_ in df['D4']]) / (n ** 2 * df['D4'].var())) ** 0.5\n",
    "    print(alpha)\n",
    "    print(' lower edge:', b0 - interval)\n",
    "    print(' higher edge:', b0 + interval)\n",
    "print()\n",
    "print('b1') \n",
    "for alpha in alphas:\n",
    "    interval = sps.t.ppf(1 - alpha/2, n - 2) * D_ost_y ** 0.5 / (n * df['D4'].var()) ** 0.5\n",
    "    print(alpha)\n",
    "    print(' lower edge:', b1 - interval)\n",
    "    print(' higher edge:', b1 + interval)"
   ]
  },
  {
   "cell_type": "code",
   "execution_count": 205,
   "metadata": {},
   "outputs": [
    {
     "data": {
      "image/png": "[encoded data removed]",
      "text/plain": [
       "<Figure size 432x288 with 1 Axes>"
      ]
     },
     "metadata": {
      "needs_background": "light"
     },
     "output_type": "display_data"
    }
   ],
   "source": [
    "sns.regplot(df['D4'], df['D1']);"
   ]
  },
  {
   "cell_type": "code",
   "execution_count": 206,
   "metadata": {},
   "outputs": [
    {
     "data": {
      "image/png": "[encoded data removed]",
      "text/plain": [
       "<Figure size 432x288 with 1 Axes>"
      ]
     },
     "metadata": {
      "needs_background": "light"
     },
     "output_type": "display_data"
    }
   ],
   "source": [
    "plt.plot(df['D4'], [y_ - (b0 + b1 * x_) for x_, y_ in zip(df['D4'], df['D1'])], 'o')\n",
    "plt.show()"
   ]
  },
  {
   "cell_type": "markdown",
   "metadata": {},
   "source": [
    "#### Задание 9.1.3"
   ]
  },
  {
   "cell_type": "code",
   "execution_count": 207,
   "metadata": {},
   "outputs": [
    {
     "name": "stdout",
     "output_type": "stream",
     "text": [
      "286.6467636657494 1.1102230246251565e-16\n"
     ]
    }
   ],
   "source": [
    "z = r_sq * (len(df['D1'])-2) / (1 - r_sq)\n",
    "f = sps.f.cdf(z, dfn=1, dfd=len(df['D1'])-2)\n",
    "pvalue = 1 - f\n",
    "print(z, pvalue) # по pvalue - значимость "
   ]
  },
  {
   "cell_type": "markdown",
   "metadata": {},
   "source": [
    "#### Задание 9.2.1"
   ]
  },
  {
   "cell_type": "code",
   "execution_count": 208,
   "metadata": {},
   "outputs": [
    {
     "name": "stdout",
     "output_type": "stream",
     "text": [
      "[-3.70975983e+02  1.08606622e+00 -1.20539875e-04]\n"
     ]
    }
   ],
   "source": [
    "F = np.array([[1, x_, x_ ** 2] for x_ in df['D4']])\n",
    "b = np.linalg.inv(F.transpose().dot(F)).dot(F.transpose()).dot(np.array(df['D1']))\n",
    "print(b)"
   ]
  },
  {
   "cell_type": "code",
   "execution_count": 209,
   "metadata": {},
   "outputs": [],
   "source": [
    "b0 = b[0]\n",
    "b1 = b[1]\n",
    "b2 = b[2]"
   ]
  },
  {
   "cell_type": "code",
   "execution_count": 210,
   "metadata": {},
   "outputs": [
    {
     "name": "stdout",
     "output_type": "stream",
     "text": [
      "-370.97598342488607 1.0860662182539396 -0.00012053987499573664\n"
     ]
    }
   ],
   "source": [
    "print(b0, b1, b2)"
   ]
  },
  {
   "cell_type": "code",
   "execution_count": 211,
   "metadata": {},
   "outputs": [
    {
     "data": {
      "text/plain": [
       "117"
      ]
     },
     "execution_count": 211,
     "metadata": {},
     "output_type": "execute_result"
    }
   ],
   "source": [
    "n = len(df['D1'])\n",
    "n"
   ]
  },
  {
   "cell_type": "code",
   "execution_count": 212,
   "metadata": {},
   "outputs": [
    {
     "data": {
      "text/plain": [
       "104708.45378813847"
      ]
     },
     "execution_count": 212,
     "metadata": {},
     "output_type": "execute_result"
    }
   ],
   "source": [
    "D_yx = sum([(b0 + b1 * x_ + b2 * (x_ ** 2) - df['D1'].mean()) ** 2 for x_ in df['D4']]) / n\n",
    "D_yx"
   ]
  },
  {
   "cell_type": "code",
   "execution_count": 213,
   "metadata": {},
   "outputs": [
    {
     "data": {
      "text/plain": [
       "38786.817889847465"
      ]
     },
     "execution_count": 213,
     "metadata": {},
     "output_type": "execute_result"
    }
   ],
   "source": [
    "D_ost_y = sum([(b0 + b1 * x_ + b2 * (x_ ** 2) - y_) ** 2 for x_, y_ in zip(df['D4'], df['D1'])]) / n\n",
    "D_ost_y"
   ]
  },
  {
   "cell_type": "code",
   "execution_count": 214,
   "metadata": {},
   "outputs": [
    {
     "data": {
      "text/plain": [
       "143495.27167798963"
      ]
     },
     "execution_count": 214,
     "metadata": {},
     "output_type": "execute_result"
    }
   ],
   "source": [
    "D_y = sum([(y_ - df['D1'].mean()) ** 2 for y_ in df['D1']]) / n\n",
    "D_y"
   ]
  },
  {
   "cell_type": "code",
   "execution_count": 215,
   "metadata": {},
   "outputs": [
    {
     "data": {
      "text/plain": [
       "143495.27167798593"
      ]
     },
     "execution_count": 215,
     "metadata": {},
     "output_type": "execute_result"
    }
   ],
   "source": [
    "D_y_sum = D_yx + D_ost_y\n",
    "D_y_sum"
   ]
  },
  {
   "cell_type": "code",
   "execution_count": 216,
   "metadata": {},
   "outputs": [
    {
     "data": {
      "text/plain": [
       "-2.5758245723243082e-12"
      ]
     },
     "execution_count": 216,
     "metadata": {},
     "output_type": "execute_result"
    }
   ],
   "source": [
    "# погрешность измерений\n",
    "(D_y_sum - D_y) / D_y * 100"
   ]
  },
  {
   "cell_type": "code",
   "execution_count": 217,
   "metadata": {},
   "outputs": [
    {
     "name": "stdout",
     "output_type": "stream",
     "text": [
      "2 114 116\n"
     ]
    }
   ],
   "source": [
    "# dof - degrees of freedom\n",
    "k = 3\n",
    "dof_yx = k - 1\n",
    "dof_ost_y = n - k\n",
    "dof_y = n - 1\n",
    "print(dof_yx, dof_ost_y, dof_y)"
   ]
  },
  {
   "cell_type": "code",
   "execution_count": 218,
   "metadata": {},
   "outputs": [
    {
     "name": "stdout",
     "output_type": "stream",
     "text": [
      "6125444.546606101 39807.52362379082 144732.29988211024\n"
     ]
    }
   ],
   "source": [
    "# несмещенные оценки\n",
    "print(n * D_yx / (dof_yx), n * D_ost_y / (dof_ost_y), n * D_y / (dof_y))"
   ]
  },
  {
   "cell_type": "code",
   "execution_count": 219,
   "metadata": {},
   "outputs": [
    {
     "data": {
      "text/plain": [
       "0.8542246073156171"
      ]
     },
     "execution_count": 219,
     "metadata": {},
     "output_type": "execute_result"
    }
   ],
   "source": [
    "(D_yx / D_y) ** 0.5 # коэф детерминации"
   ]
  },
  {
   "cell_type": "code",
   "execution_count": 220,
   "metadata": {},
   "outputs": [
    {
     "data": {
      "text/plain": [
       "0.7296996797435203"
      ]
     },
     "execution_count": 220,
     "metadata": {},
     "output_type": "execute_result"
    }
   ],
   "source": [
    "(D_yx / D_y) # корр отношение (по нему проверяем)"
   ]
  },
  {
   "cell_type": "markdown",
   "metadata": {},
   "source": [
    "$ 0.7 \\lt R_{Y|X} \\lt 0.9 \\Rightarrow $ связь **высокая** (шкала Чеддока)"
   ]
  },
  {
   "cell_type": "markdown",
   "metadata": {},
   "source": [
    "#### Задание 9.2.2"
   ]
  },
  {
   "cell_type": "code",
   "execution_count": 221,
   "metadata": {},
   "outputs": [
    {
     "data": {
      "image/png": "[encoded data removed]",
      "text/plain": [
       "<Figure size 432x288 with 1 Axes>"
      ]
     },
     "metadata": {
      "needs_background": "light"
     },
     "output_type": "display_data"
    }
   ],
   "source": [
    "plt.plot(df['D4'], df['D1'], 'o', label='остатки')\n",
    "x_sorted = sorted(list(df['D4']))\n",
    "plt.plot(x_sorted, [b[0] + b[1] * x_ + b[2] * x_ ** 2 for x_ in x_sorted], 'r', label='линия регрессии')\n",
    "plt.legend()\n",
    "plt.show()"
   ]
  },
  {
   "cell_type": "code",
   "execution_count": 222,
   "metadata": {},
   "outputs": [
    {
     "data": {
      "image/png": "[encoded data removed]",
      "text/plain": [
       "<Figure size 432x288 with 1 Axes>"
      ]
     },
     "metadata": {
      "needs_background": "light"
     },
     "output_type": "display_data"
    }
   ],
   "source": [
    "plt.plot(df['D4'], [y_ - (b0 + b1 * x_ + b2 * (x_ ** 2)) for x_, y_ in zip(df['D4'], df['D1'])], 'o')\n",
    "plt.show()"
   ]
  },
  {
   "cell_type": "markdown",
   "metadata": {},
   "source": [
    "#### Задание 9.2.3"
   ]
  },
  {
   "cell_type": "code",
   "execution_count": 223,
   "metadata": {},
   "outputs": [
    {
     "data": {
      "text/plain": [
       "0.8542246073156171"
      ]
     },
     "execution_count": 223,
     "metadata": {},
     "output_type": "execute_result"
    }
   ],
   "source": [
    "rvalue = (D_yx / D_y) ** 0.5 # rvalue - коэф детерминации\n",
    "rvalue"
   ]
  },
  {
   "cell_type": "code",
   "execution_count": 224,
   "metadata": {},
   "outputs": [
    {
     "data": {
      "text/plain": [
       "0.7296996797435203"
      ]
     },
     "execution_count": 224,
     "metadata": {},
     "output_type": "execute_result"
    }
   ],
   "source": [
    "(D_yx / D_y) # корр отношение (по нему проверяем)"
   ]
  },
  {
   "cell_type": "code",
   "execution_count": 225,
   "metadata": {},
   "outputs": [
    {
     "name": "stdout",
     "output_type": "stream",
     "text": [
      "153.8765537011367 1.1102230246251565e-16\n"
     ]
    }
   ],
   "source": [
    "z = rvalue ** 2 * dof_ost_y / ((1 - rvalue ** 2) * dof_yx)\n",
    "f = sps.f.cdf(z, dfn=dof_yx, dfd=dof_ost_y)\n",
    "print(z, 1 - f)"
   ]
  },
  {
   "cell_type": "markdown",
   "metadata": {},
   "source": [
    "#### Задание 9.3"
   ]
  },
  {
   "cell_type": "code",
   "execution_count": 226,
   "metadata": {},
   "outputs": [
    {
     "name": "stdout",
     "output_type": "stream",
     "text": [
      "[-1.5588177   0.5842183  27.78585058]\n"
     ]
    }
   ],
   "source": [
    "F = np.array([[1, x1_, x2_] for x1_, x2_ in zip(df['D4'], df['D6'])])\n",
    "b = np.linalg.inv(F.transpose().dot(F)).dot(F.transpose()).dot(np.array(df['D1']))\n",
    "print(b)"
   ]
  },
  {
   "cell_type": "code",
   "execution_count": 227,
   "metadata": {},
   "outputs": [],
   "source": [
    "b0 = b[0]\n",
    "b1 = b[1]\n",
    "b2 = b[2]"
   ]
  },
  {
   "cell_type": "code",
   "execution_count": 228,
   "metadata": {},
   "outputs": [
    {
     "name": "stdout",
     "output_type": "stream",
     "text": [
      "-1.558817701628783 0.5842183005864691 27.785850579439316\n"
     ]
    }
   ],
   "source": [
    "print(b0, b1, b2)"
   ]
  },
  {
   "cell_type": "code",
   "execution_count": 229,
   "metadata": {},
   "outputs": [
    {
     "data": {
      "text/plain": [
       "117"
      ]
     },
     "execution_count": 229,
     "metadata": {},
     "output_type": "execute_result"
    }
   ],
   "source": [
    "n = len(df['D1'])\n",
    "n"
   ]
  },
  {
   "cell_type": "code",
   "execution_count": 230,
   "metadata": {},
   "outputs": [
    {
     "data": {
      "text/plain": [
       "103685.76795554638"
      ]
     },
     "execution_count": 230,
     "metadata": {},
     "output_type": "execute_result"
    }
   ],
   "source": [
    "D_yx = sum([(b0 + b1 * x1_ + b2 * x2_ - df['D1'].mean()) ** 2 for x1_, x2_ in zip(df['D4'], df['D6'])]) / n\n",
    "D_yx"
   ]
  },
  {
   "cell_type": "code",
   "execution_count": 231,
   "metadata": {},
   "outputs": [
    {
     "data": {
      "text/plain": [
       "39809.50372244326"
      ]
     },
     "execution_count": 231,
     "metadata": {},
     "output_type": "execute_result"
    }
   ],
   "source": [
    "D_ost_y = sum([(b0 + b1 * x1_ + b2 * x2_ - y_) ** 2 for x1_, x2_, y_ in zip(df['D4'], df['D6'], df['D1'])]) / n\n",
    "D_ost_y"
   ]
  },
  {
   "cell_type": "code",
   "execution_count": 232,
   "metadata": {},
   "outputs": [
    {
     "data": {
      "text/plain": [
       "143495.27167798963"
      ]
     },
     "execution_count": 232,
     "metadata": {},
     "output_type": "execute_result"
    }
   ],
   "source": [
    "D_y = sum([(y_ - df['D1'].mean()) ** 2 for y_ in df['D1']]) / n\n",
    "D_y"
   ]
  },
  {
   "cell_type": "code",
   "execution_count": 233,
   "metadata": {},
   "outputs": [
    {
     "data": {
      "text/plain": [
       "143495.27167798963"
      ]
     },
     "execution_count": 233,
     "metadata": {},
     "output_type": "execute_result"
    }
   ],
   "source": [
    "D_y_sum = D_yx + D_ost_y\n",
    "D_y_sum"
   ]
  },
  {
   "cell_type": "code",
   "execution_count": 234,
   "metadata": {},
   "outputs": [
    {
     "data": {
      "text/plain": [
       "0.0"
      ]
     },
     "execution_count": 234,
     "metadata": {},
     "output_type": "execute_result"
    }
   ],
   "source": [
    "# погрешность измерений\n",
    "(D_y_sum - D_y) / D_y * 100"
   ]
  },
  {
   "cell_type": "code",
   "execution_count": 235,
   "metadata": {},
   "outputs": [
    {
     "name": "stdout",
     "output_type": "stream",
     "text": [
      "2 114 116\n"
     ]
    }
   ],
   "source": [
    "# dof - degrees of freedom\n",
    "k = 3\n",
    "dof_yx = k - 1\n",
    "dof_ost_y = n - k\n",
    "dof_y = n - 1\n",
    "print(dof_yx, dof_ost_y, dof_y)"
   ]
  },
  {
   "cell_type": "code",
   "execution_count": 236,
   "metadata": {},
   "outputs": [
    {
     "name": "stdout",
     "output_type": "stream",
     "text": [
      "6065617.425399464 40857.12224145493 144732.29988211024\n"
     ]
    }
   ],
   "source": [
    "# несмещенные оценки\n",
    "print(n * D_yx / (dof_yx), n * D_ost_y / (dof_ost_y), n * D_y / (dof_y))"
   ]
  },
  {
   "cell_type": "code",
   "execution_count": 237,
   "metadata": {},
   "outputs": [
    {
     "data": {
      "text/plain": [
       "0.8500427720823513"
      ]
     },
     "execution_count": 237,
     "metadata": {},
     "output_type": "execute_result"
    }
   ],
   "source": [
    "(D_yx / D_y) ** 0.5 # rvalue - коэф детерминации"
   ]
  },
  {
   "cell_type": "code",
   "execution_count": 238,
   "metadata": {},
   "outputs": [
    {
     "data": {
      "text/plain": [
       "0.7225727143694483"
      ]
     },
     "execution_count": 238,
     "metadata": {},
     "output_type": "execute_result"
    }
   ],
   "source": [
    "(D_yx / D_y) # корр отношение (по нему проверяем)"
   ]
  },
  {
   "cell_type": "markdown",
   "metadata": {},
   "source": [
    "$ 0.7 \\lt R_{Y|X} \\lt 0.9 \\Rightarrow $ связь **высокая** (шкала Чеддока)"
   ]
  },
  {
   "cell_type": "code",
   "execution_count": 239,
   "metadata": {},
   "outputs": [
    {
     "data": {
      "text/plain": [
       "0.8500427720823513"
      ]
     },
     "execution_count": 239,
     "metadata": {},
     "output_type": "execute_result"
    }
   ],
   "source": [
    "rvalue = (D_yx / D_y) ** 0.5 # rvalue - коэф детерминации\n",
    "rvalue"
   ]
  },
  {
   "cell_type": "code",
   "execution_count": 240,
   "metadata": {},
   "outputs": [
    {
     "data": {
      "text/plain": [
       "0.7225727143694483"
      ]
     },
     "execution_count": 240,
     "metadata": {},
     "output_type": "execute_result"
    }
   ],
   "source": [
    "(D_yx / D_y) # корр отношение (по нему проверяем)"
   ]
  },
  {
   "cell_type": "code",
   "execution_count": 241,
   "metadata": {},
   "outputs": [
    {
     "name": "stdout",
     "output_type": "stream",
     "text": [
      "148.45924266406362 1.1102230246251565e-16\n"
     ]
    }
   ],
   "source": [
    "z = rvalue ** 2 * dof_ost_y / ((1 - rvalue ** 2) * dof_yx)\n",
    "f = sps.f.cdf(z, dfn=dof_yx, dfd=dof_ost_y)\n",
    "print(z, 1 - f)"
   ]
  }
 ],
 "metadata": {
  "kernelspec": {
   "display_name": "Python 3",
   "language": "python",
   "name": "python3"
  },
  "language_info": {
   "codemirror_mode": {
    "name": "ipython",
    "version": 3
   },
   "file_extension": ".py",
   "mimetype": "text/x-python",
   "name": "python",
   "nbconvert_exporter": "python",
   "pygments_lexer": "ipython3",
   "version": "3.7.4"
  }
 },
 "nbformat": 4,
 "nbformat_minor": 2
}
